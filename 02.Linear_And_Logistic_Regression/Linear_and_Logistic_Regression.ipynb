{
 "cells": [
  {
   "cell_type": "code",
   "execution_count": 1,
   "id": "2417e51f-f32b-4646-91cc-0a274d1a8647",
   "metadata": {},
   "outputs": [],
   "source": [
    "import numpy as np\n",
    "import pandas as pd \n",
    "import matplotlib.pyplot as plt\n",
    "\n",
    "from sklearn.datasets import fetch_california_housing\n",
    "\n",
    "from sklearn.preprocessing import MinMaxScaler \n",
    "\n",
    "from sklearn.linear_model import LinearRegression"
   ]
  },
  {
   "cell_type": "markdown",
   "id": "4043a1aa-ba18-4a1c-bc19-6bdc410842cb",
   "metadata": {},
   "source": [
    "# Linear and Logistic Regression"
   ]
  },
  {
   "cell_type": "code",
   "execution_count": 2,
   "id": "031b90d2-f287-4d63-b88a-353f110a00b3",
   "metadata": {},
   "outputs": [],
   "source": [
    "dataset = fetch_california_housing(as_frame=True)"
   ]
  },
  {
   "cell_type": "code",
   "execution_count": 3,
   "id": "ba7eb898-fa9a-4925-98f1-1c025f6b845a",
   "metadata": {},
   "outputs": [
    {
     "name": "stdout",
     "output_type": "stream",
     "text": [
      ".. _california_housing_dataset:\n",
      "\n",
      "California Housing dataset\n",
      "--------------------------\n",
      "\n",
      "**Data Set Characteristics:**\n",
      "\n",
      "    :Number of Instances: 20640\n",
      "\n",
      "    :Number of Attributes: 8 numeric, predictive attributes and the target\n",
      "\n",
      "    :Attribute Information:\n",
      "        - MedInc        median income in block group\n",
      "        - HouseAge      median house age in block group\n",
      "        - AveRooms      average number of rooms per household\n",
      "        - AveBedrms     average number of bedrooms per household\n",
      "        - Population    block group population\n",
      "        - AveOccup      average number of household members\n",
      "        - Latitude      block group latitude\n",
      "        - Longitude     block group longitude\n",
      "\n",
      "    :Missing Attribute Values: None\n",
      "\n",
      "This dataset was obtained from the StatLib repository.\n",
      "https://www.dcc.fc.up.pt/~ltorgo/Regression/cal_housing.html\n",
      "\n",
      "The target variable is the median house value for California districts,\n",
      "expressed in hundreds of thousands of dollars ($100,000).\n",
      "\n",
      "This dataset was derived from the 1990 U.S. census, using one row per census\n",
      "block group. A block group is the smallest geographical unit for which the U.S.\n",
      "Census Bureau publishes sample data (a block group typically has a population\n",
      "of 600 to 3,000 people).\n",
      "\n",
      "A household is a group of people residing within a home. Since the average\n",
      "number of rooms and bedrooms in this dataset are provided per household, these\n",
      "columns may take surprisingly large values for block groups with few households\n",
      "and many empty houses, such as vacation resorts.\n",
      "\n",
      "It can be downloaded/loaded using the\n",
      ":func:`sklearn.datasets.fetch_california_housing` function.\n",
      "\n",
      ".. topic:: References\n",
      "\n",
      "    - Pace, R. Kelley and Ronald Barry, Sparse Spatial Autoregressions,\n",
      "      Statistics and Probability Letters, 33 (1997) 291-297\n",
      "\n"
     ]
    }
   ],
   "source": [
    "print(dataset.DESCR)"
   ]
  },
  {
   "cell_type": "markdown",
   "id": "9831e5eb-5179-4657-9139-2ddacf3ca022",
   "metadata": {},
   "source": [
    "Целта ни е да получим оценка за цената, която е median house value. "
   ]
  },
  {
   "cell_type": "code",
   "execution_count": 4,
   "id": "7eff8348-2d20-4621-918d-6df34a3cf39d",
   "metadata": {},
   "outputs": [
    {
     "data": {
      "text/html": [
       "<div>\n",
       "<style scoped>\n",
       "    .dataframe tbody tr th:only-of-type {\n",
       "        vertical-align: middle;\n",
       "    }\n",
       "\n",
       "    .dataframe tbody tr th {\n",
       "        vertical-align: top;\n",
       "    }\n",
       "\n",
       "    .dataframe thead th {\n",
       "        text-align: right;\n",
       "    }\n",
       "</style>\n",
       "<table border=\"1\" class=\"dataframe\">\n",
       "  <thead>\n",
       "    <tr style=\"text-align: right;\">\n",
       "      <th></th>\n",
       "      <th>MedInc</th>\n",
       "      <th>HouseAge</th>\n",
       "      <th>AveRooms</th>\n",
       "      <th>AveBedrms</th>\n",
       "      <th>Population</th>\n",
       "      <th>AveOccup</th>\n",
       "      <th>Latitude</th>\n",
       "      <th>Longitude</th>\n",
       "    </tr>\n",
       "  </thead>\n",
       "  <tbody>\n",
       "    <tr>\n",
       "      <th>0</th>\n",
       "      <td>8.3252</td>\n",
       "      <td>41.0</td>\n",
       "      <td>6.984127</td>\n",
       "      <td>1.023810</td>\n",
       "      <td>322.0</td>\n",
       "      <td>2.555556</td>\n",
       "      <td>37.88</td>\n",
       "      <td>-122.23</td>\n",
       "    </tr>\n",
       "    <tr>\n",
       "      <th>1</th>\n",
       "      <td>8.3014</td>\n",
       "      <td>21.0</td>\n",
       "      <td>6.238137</td>\n",
       "      <td>0.971880</td>\n",
       "      <td>2401.0</td>\n",
       "      <td>2.109842</td>\n",
       "      <td>37.86</td>\n",
       "      <td>-122.22</td>\n",
       "    </tr>\n",
       "    <tr>\n",
       "      <th>2</th>\n",
       "      <td>7.2574</td>\n",
       "      <td>52.0</td>\n",
       "      <td>8.288136</td>\n",
       "      <td>1.073446</td>\n",
       "      <td>496.0</td>\n",
       "      <td>2.802260</td>\n",
       "      <td>37.85</td>\n",
       "      <td>-122.24</td>\n",
       "    </tr>\n",
       "    <tr>\n",
       "      <th>3</th>\n",
       "      <td>5.6431</td>\n",
       "      <td>52.0</td>\n",
       "      <td>5.817352</td>\n",
       "      <td>1.073059</td>\n",
       "      <td>558.0</td>\n",
       "      <td>2.547945</td>\n",
       "      <td>37.85</td>\n",
       "      <td>-122.25</td>\n",
       "    </tr>\n",
       "    <tr>\n",
       "      <th>4</th>\n",
       "      <td>3.8462</td>\n",
       "      <td>52.0</td>\n",
       "      <td>6.281853</td>\n",
       "      <td>1.081081</td>\n",
       "      <td>565.0</td>\n",
       "      <td>2.181467</td>\n",
       "      <td>37.85</td>\n",
       "      <td>-122.25</td>\n",
       "    </tr>\n",
       "    <tr>\n",
       "      <th>...</th>\n",
       "      <td>...</td>\n",
       "      <td>...</td>\n",
       "      <td>...</td>\n",
       "      <td>...</td>\n",
       "      <td>...</td>\n",
       "      <td>...</td>\n",
       "      <td>...</td>\n",
       "      <td>...</td>\n",
       "    </tr>\n",
       "    <tr>\n",
       "      <th>20635</th>\n",
       "      <td>1.5603</td>\n",
       "      <td>25.0</td>\n",
       "      <td>5.045455</td>\n",
       "      <td>1.133333</td>\n",
       "      <td>845.0</td>\n",
       "      <td>2.560606</td>\n",
       "      <td>39.48</td>\n",
       "      <td>-121.09</td>\n",
       "    </tr>\n",
       "    <tr>\n",
       "      <th>20636</th>\n",
       "      <td>2.5568</td>\n",
       "      <td>18.0</td>\n",
       "      <td>6.114035</td>\n",
       "      <td>1.315789</td>\n",
       "      <td>356.0</td>\n",
       "      <td>3.122807</td>\n",
       "      <td>39.49</td>\n",
       "      <td>-121.21</td>\n",
       "    </tr>\n",
       "    <tr>\n",
       "      <th>20637</th>\n",
       "      <td>1.7000</td>\n",
       "      <td>17.0</td>\n",
       "      <td>5.205543</td>\n",
       "      <td>1.120092</td>\n",
       "      <td>1007.0</td>\n",
       "      <td>2.325635</td>\n",
       "      <td>39.43</td>\n",
       "      <td>-121.22</td>\n",
       "    </tr>\n",
       "    <tr>\n",
       "      <th>20638</th>\n",
       "      <td>1.8672</td>\n",
       "      <td>18.0</td>\n",
       "      <td>5.329513</td>\n",
       "      <td>1.171920</td>\n",
       "      <td>741.0</td>\n",
       "      <td>2.123209</td>\n",
       "      <td>39.43</td>\n",
       "      <td>-121.32</td>\n",
       "    </tr>\n",
       "    <tr>\n",
       "      <th>20639</th>\n",
       "      <td>2.3886</td>\n",
       "      <td>16.0</td>\n",
       "      <td>5.254717</td>\n",
       "      <td>1.162264</td>\n",
       "      <td>1387.0</td>\n",
       "      <td>2.616981</td>\n",
       "      <td>39.37</td>\n",
       "      <td>-121.24</td>\n",
       "    </tr>\n",
       "  </tbody>\n",
       "</table>\n",
       "<p>20640 rows × 8 columns</p>\n",
       "</div>"
      ],
      "text/plain": [
       "       MedInc  HouseAge  AveRooms  AveBedrms  Population  AveOccup  Latitude  \\\n",
       "0      8.3252      41.0  6.984127   1.023810       322.0  2.555556     37.88   \n",
       "1      8.3014      21.0  6.238137   0.971880      2401.0  2.109842     37.86   \n",
       "2      7.2574      52.0  8.288136   1.073446       496.0  2.802260     37.85   \n",
       "3      5.6431      52.0  5.817352   1.073059       558.0  2.547945     37.85   \n",
       "4      3.8462      52.0  6.281853   1.081081       565.0  2.181467     37.85   \n",
       "...       ...       ...       ...        ...         ...       ...       ...   \n",
       "20635  1.5603      25.0  5.045455   1.133333       845.0  2.560606     39.48   \n",
       "20636  2.5568      18.0  6.114035   1.315789       356.0  3.122807     39.49   \n",
       "20637  1.7000      17.0  5.205543   1.120092      1007.0  2.325635     39.43   \n",
       "20638  1.8672      18.0  5.329513   1.171920       741.0  2.123209     39.43   \n",
       "20639  2.3886      16.0  5.254717   1.162264      1387.0  2.616981     39.37   \n",
       "\n",
       "       Longitude  \n",
       "0        -122.23  \n",
       "1        -122.22  \n",
       "2        -122.24  \n",
       "3        -122.25  \n",
       "4        -122.25  \n",
       "...          ...  \n",
       "20635    -121.09  \n",
       "20636    -121.21  \n",
       "20637    -121.22  \n",
       "20638    -121.32  \n",
       "20639    -121.24  \n",
       "\n",
       "[20640 rows x 8 columns]"
      ]
     },
     "execution_count": 4,
     "metadata": {},
     "output_type": "execute_result"
    }
   ],
   "source": [
    "dataset.data # получаваме данните в идеалния за sklearn формат. Но казваме asFrame = true и ги позваме в пандас формат, който съдържа и\n",
    "#  името на колоните и е по-близко до акъла"
   ]
  },
  {
   "cell_type": "code",
   "execution_count": 5,
   "id": "73cea79b-47d4-418f-a210-d875aa155032",
   "metadata": {},
   "outputs": [],
   "source": [
    "house_prices = dataset.frame # Връша данните в Pandas dataframe"
   ]
  },
  {
   "cell_type": "code",
   "execution_count": 6,
   "id": "1e974f47-dda1-49bf-9450-e072259fa5da",
   "metadata": {},
   "outputs": [
    {
     "data": {
      "text/html": [
       "<div>\n",
       "<style scoped>\n",
       "    .dataframe tbody tr th:only-of-type {\n",
       "        vertical-align: middle;\n",
       "    }\n",
       "\n",
       "    .dataframe tbody tr th {\n",
       "        vertical-align: top;\n",
       "    }\n",
       "\n",
       "    .dataframe thead th {\n",
       "        text-align: right;\n",
       "    }\n",
       "</style>\n",
       "<table border=\"1\" class=\"dataframe\">\n",
       "  <thead>\n",
       "    <tr style=\"text-align: right;\">\n",
       "      <th></th>\n",
       "      <th>MedInc</th>\n",
       "      <th>HouseAge</th>\n",
       "      <th>AveRooms</th>\n",
       "      <th>AveBedrms</th>\n",
       "      <th>Population</th>\n",
       "      <th>AveOccup</th>\n",
       "      <th>Latitude</th>\n",
       "      <th>Longitude</th>\n",
       "      <th>MedHouseVal</th>\n",
       "    </tr>\n",
       "  </thead>\n",
       "  <tbody>\n",
       "    <tr>\n",
       "      <th>0</th>\n",
       "      <td>8.3252</td>\n",
       "      <td>41.0</td>\n",
       "      <td>6.984127</td>\n",
       "      <td>1.023810</td>\n",
       "      <td>322.0</td>\n",
       "      <td>2.555556</td>\n",
       "      <td>37.88</td>\n",
       "      <td>-122.23</td>\n",
       "      <td>4.526</td>\n",
       "    </tr>\n",
       "    <tr>\n",
       "      <th>1</th>\n",
       "      <td>8.3014</td>\n",
       "      <td>21.0</td>\n",
       "      <td>6.238137</td>\n",
       "      <td>0.971880</td>\n",
       "      <td>2401.0</td>\n",
       "      <td>2.109842</td>\n",
       "      <td>37.86</td>\n",
       "      <td>-122.22</td>\n",
       "      <td>3.585</td>\n",
       "    </tr>\n",
       "    <tr>\n",
       "      <th>2</th>\n",
       "      <td>7.2574</td>\n",
       "      <td>52.0</td>\n",
       "      <td>8.288136</td>\n",
       "      <td>1.073446</td>\n",
       "      <td>496.0</td>\n",
       "      <td>2.802260</td>\n",
       "      <td>37.85</td>\n",
       "      <td>-122.24</td>\n",
       "      <td>3.521</td>\n",
       "    </tr>\n",
       "    <tr>\n",
       "      <th>3</th>\n",
       "      <td>5.6431</td>\n",
       "      <td>52.0</td>\n",
       "      <td>5.817352</td>\n",
       "      <td>1.073059</td>\n",
       "      <td>558.0</td>\n",
       "      <td>2.547945</td>\n",
       "      <td>37.85</td>\n",
       "      <td>-122.25</td>\n",
       "      <td>3.413</td>\n",
       "    </tr>\n",
       "    <tr>\n",
       "      <th>4</th>\n",
       "      <td>3.8462</td>\n",
       "      <td>52.0</td>\n",
       "      <td>6.281853</td>\n",
       "      <td>1.081081</td>\n",
       "      <td>565.0</td>\n",
       "      <td>2.181467</td>\n",
       "      <td>37.85</td>\n",
       "      <td>-122.25</td>\n",
       "      <td>3.422</td>\n",
       "    </tr>\n",
       "    <tr>\n",
       "      <th>...</th>\n",
       "      <td>...</td>\n",
       "      <td>...</td>\n",
       "      <td>...</td>\n",
       "      <td>...</td>\n",
       "      <td>...</td>\n",
       "      <td>...</td>\n",
       "      <td>...</td>\n",
       "      <td>...</td>\n",
       "      <td>...</td>\n",
       "    </tr>\n",
       "    <tr>\n",
       "      <th>20635</th>\n",
       "      <td>1.5603</td>\n",
       "      <td>25.0</td>\n",
       "      <td>5.045455</td>\n",
       "      <td>1.133333</td>\n",
       "      <td>845.0</td>\n",
       "      <td>2.560606</td>\n",
       "      <td>39.48</td>\n",
       "      <td>-121.09</td>\n",
       "      <td>0.781</td>\n",
       "    </tr>\n",
       "    <tr>\n",
       "      <th>20636</th>\n",
       "      <td>2.5568</td>\n",
       "      <td>18.0</td>\n",
       "      <td>6.114035</td>\n",
       "      <td>1.315789</td>\n",
       "      <td>356.0</td>\n",
       "      <td>3.122807</td>\n",
       "      <td>39.49</td>\n",
       "      <td>-121.21</td>\n",
       "      <td>0.771</td>\n",
       "    </tr>\n",
       "    <tr>\n",
       "      <th>20637</th>\n",
       "      <td>1.7000</td>\n",
       "      <td>17.0</td>\n",
       "      <td>5.205543</td>\n",
       "      <td>1.120092</td>\n",
       "      <td>1007.0</td>\n",
       "      <td>2.325635</td>\n",
       "      <td>39.43</td>\n",
       "      <td>-121.22</td>\n",
       "      <td>0.923</td>\n",
       "    </tr>\n",
       "    <tr>\n",
       "      <th>20638</th>\n",
       "      <td>1.8672</td>\n",
       "      <td>18.0</td>\n",
       "      <td>5.329513</td>\n",
       "      <td>1.171920</td>\n",
       "      <td>741.0</td>\n",
       "      <td>2.123209</td>\n",
       "      <td>39.43</td>\n",
       "      <td>-121.32</td>\n",
       "      <td>0.847</td>\n",
       "    </tr>\n",
       "    <tr>\n",
       "      <th>20639</th>\n",
       "      <td>2.3886</td>\n",
       "      <td>16.0</td>\n",
       "      <td>5.254717</td>\n",
       "      <td>1.162264</td>\n",
       "      <td>1387.0</td>\n",
       "      <td>2.616981</td>\n",
       "      <td>39.37</td>\n",
       "      <td>-121.24</td>\n",
       "      <td>0.894</td>\n",
       "    </tr>\n",
       "  </tbody>\n",
       "</table>\n",
       "<p>20640 rows × 9 columns</p>\n",
       "</div>"
      ],
      "text/plain": [
       "       MedInc  HouseAge  AveRooms  AveBedrms  Population  AveOccup  Latitude  \\\n",
       "0      8.3252      41.0  6.984127   1.023810       322.0  2.555556     37.88   \n",
       "1      8.3014      21.0  6.238137   0.971880      2401.0  2.109842     37.86   \n",
       "2      7.2574      52.0  8.288136   1.073446       496.0  2.802260     37.85   \n",
       "3      5.6431      52.0  5.817352   1.073059       558.0  2.547945     37.85   \n",
       "4      3.8462      52.0  6.281853   1.081081       565.0  2.181467     37.85   \n",
       "...       ...       ...       ...        ...         ...       ...       ...   \n",
       "20635  1.5603      25.0  5.045455   1.133333       845.0  2.560606     39.48   \n",
       "20636  2.5568      18.0  6.114035   1.315789       356.0  3.122807     39.49   \n",
       "20637  1.7000      17.0  5.205543   1.120092      1007.0  2.325635     39.43   \n",
       "20638  1.8672      18.0  5.329513   1.171920       741.0  2.123209     39.43   \n",
       "20639  2.3886      16.0  5.254717   1.162264      1387.0  2.616981     39.37   \n",
       "\n",
       "       Longitude  MedHouseVal  \n",
       "0        -122.23        4.526  \n",
       "1        -122.22        3.585  \n",
       "2        -122.24        3.521  \n",
       "3        -122.25        3.413  \n",
       "4        -122.25        3.422  \n",
       "...          ...          ...  \n",
       "20635    -121.09        0.781  \n",
       "20636    -121.21        0.771  \n",
       "20637    -121.22        0.923  \n",
       "20638    -121.32        0.847  \n",
       "20639    -121.24        0.894  \n",
       "\n",
       "[20640 rows x 9 columns]"
      ]
     },
     "execution_count": 6,
     "metadata": {},
     "output_type": "execute_result"
    }
   ],
   "source": [
    "house_prices"
   ]
  },
  {
   "cell_type": "markdown",
   "id": "a2dd98d5-1452-49d4-9cb1-3919d68b8114",
   "metadata": {},
   "source": [
    "Ще моделираме колоната MedHouseVal като функция на данните, които подаваме. y тилда = f(x). "
   ]
  },
  {
   "cell_type": "markdown",
   "id": "115cf0f6-8870-4539-b381-fe214a1a681e",
   "metadata": {},
   "source": [
    "На регресията целта и е да събере данните в един и същи модел, да ги обедини. Целта на класификацията е да ги дискриминира, да ги раздели. Във втория случая трябва да намерим клъстери - близки разстояния в клъстера, и далечни разстояния между клъстерите."
   ]
  },
  {
   "cell_type": "code",
   "execution_count": 7,
   "id": "f2d451ea-fd82-42ed-9d3e-3628d733adac",
   "metadata": {},
   "outputs": [
    {
     "data": {
      "image/png": "[encoded data removed]",
      "text/plain": [
       "<Figure size 640x480 with 1 Axes>"
      ]
     },
     "metadata": {},
     "output_type": "display_data"
    }
   ],
   "source": [
    "plt.hist(house_prices.MedInc, bins=\"fd\")\n",
    "plt.show()"
   ]
  },
  {
   "cell_type": "markdown",
   "id": "590640d1-bba8-427e-b382-f7d3c0b7fe45",
   "metadata": {},
   "source": [
    "Разглеждаме тези вдясно, щото може би са outliers. "
   ]
  },
  {
   "cell_type": "code",
   "execution_count": 8,
   "id": "ea1ed04b-944c-474b-832d-dbba847022b5",
   "metadata": {},
   "outputs": [
    {
     "data": {
      "text/html": [
       "<div>\n",
       "<style scoped>\n",
       "    .dataframe tbody tr th:only-of-type {\n",
       "        vertical-align: middle;\n",
       "    }\n",
       "\n",
       "    .dataframe tbody tr th {\n",
       "        vertical-align: top;\n",
       "    }\n",
       "\n",
       "    .dataframe thead th {\n",
       "        text-align: right;\n",
       "    }\n",
       "</style>\n",
       "<table border=\"1\" class=\"dataframe\">\n",
       "  <thead>\n",
       "    <tr style=\"text-align: right;\">\n",
       "      <th></th>\n",
       "      <th>MedInc</th>\n",
       "      <th>HouseAge</th>\n",
       "      <th>AveRooms</th>\n",
       "      <th>AveBedrms</th>\n",
       "      <th>Population</th>\n",
       "      <th>AveOccup</th>\n",
       "      <th>Latitude</th>\n",
       "      <th>Longitude</th>\n",
       "      <th>MedHouseVal</th>\n",
       "    </tr>\n",
       "  </thead>\n",
       "  <tbody>\n",
       "    <tr>\n",
       "      <th>5304</th>\n",
       "      <td>14.2867</td>\n",
       "      <td>49.0</td>\n",
       "      <td>7.603774</td>\n",
       "      <td>0.946541</td>\n",
       "      <td>850.0</td>\n",
       "      <td>2.672956</td>\n",
       "      <td>34.07</td>\n",
       "      <td>-118.46</td>\n",
       "      <td>5.00001</td>\n",
       "    </tr>\n",
       "    <tr>\n",
       "      <th>15698</th>\n",
       "      <td>14.2959</td>\n",
       "      <td>52.0</td>\n",
       "      <td>8.172727</td>\n",
       "      <td>0.872727</td>\n",
       "      <td>304.0</td>\n",
       "      <td>2.763636</td>\n",
       "      <td>37.79</td>\n",
       "      <td>-122.46</td>\n",
       "      <td>5.00001</td>\n",
       "    </tr>\n",
       "    <tr>\n",
       "      <th>9811</th>\n",
       "      <td>14.4113</td>\n",
       "      <td>28.0</td>\n",
       "      <td>11.634686</td>\n",
       "      <td>1.509225</td>\n",
       "      <td>569.0</td>\n",
       "      <td>2.099631</td>\n",
       "      <td>36.57</td>\n",
       "      <td>-121.94</td>\n",
       "      <td>5.00001</td>\n",
       "    </tr>\n",
       "    <tr>\n",
       "      <th>16915</th>\n",
       "      <td>14.4219</td>\n",
       "      <td>52.0</td>\n",
       "      <td>8.253731</td>\n",
       "      <td>0.950249</td>\n",
       "      <td>519.0</td>\n",
       "      <td>2.582090</td>\n",
       "      <td>37.56</td>\n",
       "      <td>-122.35</td>\n",
       "      <td>5.00001</td>\n",
       "    </tr>\n",
       "    <tr>\n",
       "      <th>9370</th>\n",
       "      <td>14.5833</td>\n",
       "      <td>24.0</td>\n",
       "      <td>5.613333</td>\n",
       "      <td>0.853333</td>\n",
       "      <td>163.0</td>\n",
       "      <td>2.173333</td>\n",
       "      <td>37.92</td>\n",
       "      <td>-122.52</td>\n",
       "      <td>5.00001</td>\n",
       "    </tr>\n",
       "    <tr>\n",
       "      <th>10483</th>\n",
       "      <td>14.9009</td>\n",
       "      <td>8.0</td>\n",
       "      <td>9.860169</td>\n",
       "      <td>1.114407</td>\n",
       "      <td>899.0</td>\n",
       "      <td>3.809322</td>\n",
       "      <td>33.59</td>\n",
       "      <td>-117.68</td>\n",
       "      <td>5.00001</td>\n",
       "    </tr>\n",
       "    <tr>\n",
       "      <th>18052</th>\n",
       "      <td>15.0000</td>\n",
       "      <td>19.0</td>\n",
       "      <td>7.626263</td>\n",
       "      <td>0.939394</td>\n",
       "      <td>267.0</td>\n",
       "      <td>2.696970</td>\n",
       "      <td>37.25</td>\n",
       "      <td>-121.98</td>\n",
       "      <td>5.00001</td>\n",
       "    </tr>\n",
       "    <tr>\n",
       "      <th>5260</th>\n",
       "      <td>15.0000</td>\n",
       "      <td>39.0</td>\n",
       "      <td>9.293750</td>\n",
       "      <td>1.018750</td>\n",
       "      <td>414.0</td>\n",
       "      <td>2.587500</td>\n",
       "      <td>34.05</td>\n",
       "      <td>-118.50</td>\n",
       "      <td>5.00001</td>\n",
       "    </tr>\n",
       "    <tr>\n",
       "      <th>8853</th>\n",
       "      <td>15.0001</td>\n",
       "      <td>52.0</td>\n",
       "      <td>9.867036</td>\n",
       "      <td>1.091413</td>\n",
       "      <td>1163.0</td>\n",
       "      <td>3.221607</td>\n",
       "      <td>34.07</td>\n",
       "      <td>-118.41</td>\n",
       "      <td>5.00001</td>\n",
       "    </tr>\n",
       "    <tr>\n",
       "      <th>8854</th>\n",
       "      <td>15.0001</td>\n",
       "      <td>52.0</td>\n",
       "      <td>8.710145</td>\n",
       "      <td>1.028986</td>\n",
       "      <td>408.0</td>\n",
       "      <td>2.956522</td>\n",
       "      <td>34.07</td>\n",
       "      <td>-118.41</td>\n",
       "      <td>5.00001</td>\n",
       "    </tr>\n",
       "    <tr>\n",
       "      <th>8878</th>\n",
       "      <td>15.0001</td>\n",
       "      <td>52.0</td>\n",
       "      <td>8.000000</td>\n",
       "      <td>0.997333</td>\n",
       "      <td>1143.0</td>\n",
       "      <td>3.048000</td>\n",
       "      <td>34.04</td>\n",
       "      <td>-118.50</td>\n",
       "      <td>5.00001</td>\n",
       "    </tr>\n",
       "    <tr>\n",
       "      <th>10673</th>\n",
       "      <td>15.0001</td>\n",
       "      <td>13.0</td>\n",
       "      <td>7.842900</td>\n",
       "      <td>0.993958</td>\n",
       "      <td>1865.0</td>\n",
       "      <td>2.817221</td>\n",
       "      <td>33.62</td>\n",
       "      <td>-117.85</td>\n",
       "      <td>5.00001</td>\n",
       "    </tr>\n",
       "    <tr>\n",
       "      <th>10760</th>\n",
       "      <td>15.0001</td>\n",
       "      <td>15.0</td>\n",
       "      <td>8.062044</td>\n",
       "      <td>1.003650</td>\n",
       "      <td>735.0</td>\n",
       "      <td>2.682482</td>\n",
       "      <td>33.62</td>\n",
       "      <td>-117.87</td>\n",
       "      <td>5.00001</td>\n",
       "    </tr>\n",
       "    <tr>\n",
       "      <th>11520</th>\n",
       "      <td>15.0001</td>\n",
       "      <td>14.0</td>\n",
       "      <td>8.354232</td>\n",
       "      <td>1.037618</td>\n",
       "      <td>964.0</td>\n",
       "      <td>3.021944</td>\n",
       "      <td>33.72</td>\n",
       "      <td>-118.06</td>\n",
       "      <td>5.00001</td>\n",
       "    </tr>\n",
       "    <tr>\n",
       "      <th>15241</th>\n",
       "      <td>15.0001</td>\n",
       "      <td>17.0</td>\n",
       "      <td>8.520376</td>\n",
       "      <td>1.021944</td>\n",
       "      <td>1011.0</td>\n",
       "      <td>3.169279</td>\n",
       "      <td>32.99</td>\n",
       "      <td>-117.23</td>\n",
       "      <td>5.00001</td>\n",
       "    </tr>\n",
       "    <tr>\n",
       "      <th>15693</th>\n",
       "      <td>15.0001</td>\n",
       "      <td>52.0</td>\n",
       "      <td>7.994475</td>\n",
       "      <td>1.027624</td>\n",
       "      <td>483.0</td>\n",
       "      <td>2.668508</td>\n",
       "      <td>37.79</td>\n",
       "      <td>-122.44</td>\n",
       "      <td>5.00001</td>\n",
       "    </tr>\n",
       "    <tr>\n",
       "      <th>1566</th>\n",
       "      <td>15.0001</td>\n",
       "      <td>2.0</td>\n",
       "      <td>22.222222</td>\n",
       "      <td>2.222222</td>\n",
       "      <td>25.0</td>\n",
       "      <td>2.777778</td>\n",
       "      <td>37.74</td>\n",
       "      <td>-121.96</td>\n",
       "      <td>3.50000</td>\n",
       "    </tr>\n",
       "    <tr>\n",
       "      <th>16171</th>\n",
       "      <td>15.0001</td>\n",
       "      <td>52.0</td>\n",
       "      <td>8.000000</td>\n",
       "      <td>1.000000</td>\n",
       "      <td>13.0</td>\n",
       "      <td>13.000000</td>\n",
       "      <td>37.79</td>\n",
       "      <td>-122.50</td>\n",
       "      <td>5.00001</td>\n",
       "    </tr>\n",
       "    <tr>\n",
       "      <th>16910</th>\n",
       "      <td>15.0001</td>\n",
       "      <td>32.0</td>\n",
       "      <td>9.166341</td>\n",
       "      <td>1.056751</td>\n",
       "      <td>1512.0</td>\n",
       "      <td>2.958904</td>\n",
       "      <td>37.56</td>\n",
       "      <td>-122.36</td>\n",
       "      <td>5.00001</td>\n",
       "    </tr>\n",
       "    <tr>\n",
       "      <th>17107</th>\n",
       "      <td>15.0001</td>\n",
       "      <td>31.0</td>\n",
       "      <td>9.425101</td>\n",
       "      <td>1.093117</td>\n",
       "      <td>722.0</td>\n",
       "      <td>2.923077</td>\n",
       "      <td>37.44</td>\n",
       "      <td>-122.20</td>\n",
       "      <td>5.00001</td>\n",
       "    </tr>\n",
       "    <tr>\n",
       "      <th>17108</th>\n",
       "      <td>15.0001</td>\n",
       "      <td>32.0</td>\n",
       "      <td>8.845041</td>\n",
       "      <td>1.035124</td>\n",
       "      <td>1318.0</td>\n",
       "      <td>2.723140</td>\n",
       "      <td>37.44</td>\n",
       "      <td>-122.22</td>\n",
       "      <td>5.00001</td>\n",
       "    </tr>\n",
       "    <tr>\n",
       "      <th>17110</th>\n",
       "      <td>15.0001</td>\n",
       "      <td>40.0</td>\n",
       "      <td>8.584541</td>\n",
       "      <td>1.000000</td>\n",
       "      <td>577.0</td>\n",
       "      <td>2.787440</td>\n",
       "      <td>37.46</td>\n",
       "      <td>-122.21</td>\n",
       "      <td>5.00001</td>\n",
       "    </tr>\n",
       "    <tr>\n",
       "      <th>17111</th>\n",
       "      <td>15.0001</td>\n",
       "      <td>40.0</td>\n",
       "      <td>9.802326</td>\n",
       "      <td>1.135659</td>\n",
       "      <td>831.0</td>\n",
       "      <td>3.220930</td>\n",
       "      <td>37.46</td>\n",
       "      <td>-122.18</td>\n",
       "      <td>5.00001</td>\n",
       "    </tr>\n",
       "    <tr>\n",
       "      <th>17118</th>\n",
       "      <td>15.0001</td>\n",
       "      <td>46.0</td>\n",
       "      <td>6.000000</td>\n",
       "      <td>0.800000</td>\n",
       "      <td>13.0</td>\n",
       "      <td>2.600000</td>\n",
       "      <td>37.50</td>\n",
       "      <td>-122.14</td>\n",
       "      <td>5.00001</td>\n",
       "    </tr>\n",
       "    <tr>\n",
       "      <th>17166</th>\n",
       "      <td>15.0001</td>\n",
       "      <td>32.0</td>\n",
       "      <td>8.116608</td>\n",
       "      <td>1.014134</td>\n",
       "      <td>814.0</td>\n",
       "      <td>2.876325</td>\n",
       "      <td>37.40</td>\n",
       "      <td>-122.22</td>\n",
       "      <td>5.00001</td>\n",
       "    </tr>\n",
       "    <tr>\n",
       "      <th>17170</th>\n",
       "      <td>15.0001</td>\n",
       "      <td>33.0</td>\n",
       "      <td>7.446512</td>\n",
       "      <td>1.037209</td>\n",
       "      <td>629.0</td>\n",
       "      <td>2.925581</td>\n",
       "      <td>37.43</td>\n",
       "      <td>-122.27</td>\n",
       "      <td>5.00001</td>\n",
       "    </tr>\n",
       "    <tr>\n",
       "      <th>17858</th>\n",
       "      <td>15.0001</td>\n",
       "      <td>43.0</td>\n",
       "      <td>5.687500</td>\n",
       "      <td>0.750000</td>\n",
       "      <td>58.0</td>\n",
       "      <td>3.625000</td>\n",
       "      <td>37.46</td>\n",
       "      <td>-121.87</td>\n",
       "      <td>5.00001</td>\n",
       "    </tr>\n",
       "    <tr>\n",
       "      <th>8852</th>\n",
       "      <td>15.0001</td>\n",
       "      <td>48.0</td>\n",
       "      <td>9.729839</td>\n",
       "      <td>1.052419</td>\n",
       "      <td>770.0</td>\n",
       "      <td>3.104839</td>\n",
       "      <td>34.08</td>\n",
       "      <td>-118.42</td>\n",
       "      <td>5.00001</td>\n",
       "    </tr>\n",
       "    <tr>\n",
       "      <th>8851</th>\n",
       "      <td>15.0001</td>\n",
       "      <td>40.0</td>\n",
       "      <td>9.600000</td>\n",
       "      <td>1.059459</td>\n",
       "      <td>1024.0</td>\n",
       "      <td>2.767568</td>\n",
       "      <td>34.09</td>\n",
       "      <td>-118.42</td>\n",
       "      <td>5.00001</td>\n",
       "    </tr>\n",
       "    <tr>\n",
       "      <th>8850</th>\n",
       "      <td>15.0001</td>\n",
       "      <td>37.0</td>\n",
       "      <td>9.333333</td>\n",
       "      <td>1.037801</td>\n",
       "      <td>809.0</td>\n",
       "      <td>2.780069</td>\n",
       "      <td>34.09</td>\n",
       "      <td>-118.41</td>\n",
       "      <td>5.00001</td>\n",
       "    </tr>\n",
       "    <tr>\n",
       "      <th>8849</th>\n",
       "      <td>15.0001</td>\n",
       "      <td>52.0</td>\n",
       "      <td>9.237288</td>\n",
       "      <td>1.062954</td>\n",
       "      <td>1266.0</td>\n",
       "      <td>3.065375</td>\n",
       "      <td>34.08</td>\n",
       "      <td>-118.40</td>\n",
       "      <td>5.00001</td>\n",
       "    </tr>\n",
       "    <tr>\n",
       "      <th>4352</th>\n",
       "      <td>15.0001</td>\n",
       "      <td>37.0</td>\n",
       "      <td>8.659574</td>\n",
       "      <td>1.425532</td>\n",
       "      <td>100.0</td>\n",
       "      <td>2.127660</td>\n",
       "      <td>34.10</td>\n",
       "      <td>-118.37</td>\n",
       "      <td>5.00001</td>\n",
       "    </tr>\n",
       "    <tr>\n",
       "      <th>4604</th>\n",
       "      <td>15.0001</td>\n",
       "      <td>52.0</td>\n",
       "      <td>8.444954</td>\n",
       "      <td>1.100917</td>\n",
       "      <td>693.0</td>\n",
       "      <td>3.178899</td>\n",
       "      <td>34.06</td>\n",
       "      <td>-118.33</td>\n",
       "      <td>5.00001</td>\n",
       "    </tr>\n",
       "    <tr>\n",
       "      <th>4605</th>\n",
       "      <td>15.0001</td>\n",
       "      <td>52.0</td>\n",
       "      <td>8.483019</td>\n",
       "      <td>0.962264</td>\n",
       "      <td>813.0</td>\n",
       "      <td>3.067925</td>\n",
       "      <td>34.07</td>\n",
       "      <td>-118.33</td>\n",
       "      <td>5.00001</td>\n",
       "    </tr>\n",
       "    <tr>\n",
       "      <th>4606</th>\n",
       "      <td>15.0001</td>\n",
       "      <td>52.0</td>\n",
       "      <td>9.204969</td>\n",
       "      <td>1.062112</td>\n",
       "      <td>531.0</td>\n",
       "      <td>3.298137</td>\n",
       "      <td>34.07</td>\n",
       "      <td>-118.33</td>\n",
       "      <td>5.00001</td>\n",
       "    </tr>\n",
       "    <tr>\n",
       "      <th>4626</th>\n",
       "      <td>15.0001</td>\n",
       "      <td>52.0</td>\n",
       "      <td>7.958333</td>\n",
       "      <td>0.833333</td>\n",
       "      <td>457.0</td>\n",
       "      <td>3.808333</td>\n",
       "      <td>34.06</td>\n",
       "      <td>-118.32</td>\n",
       "      <td>5.00001</td>\n",
       "    </tr>\n",
       "    <tr>\n",
       "      <th>4678</th>\n",
       "      <td>15.0001</td>\n",
       "      <td>52.0</td>\n",
       "      <td>8.780612</td>\n",
       "      <td>0.994898</td>\n",
       "      <td>688.0</td>\n",
       "      <td>3.510204</td>\n",
       "      <td>34.08</td>\n",
       "      <td>-118.34</td>\n",
       "      <td>5.00001</td>\n",
       "    </tr>\n",
       "    <tr>\n",
       "      <th>5242</th>\n",
       "      <td>15.0001</td>\n",
       "      <td>32.0</td>\n",
       "      <td>8.002869</td>\n",
       "      <td>1.080344</td>\n",
       "      <td>1567.0</td>\n",
       "      <td>2.248207</td>\n",
       "      <td>34.11</td>\n",
       "      <td>-118.40</td>\n",
       "      <td>5.00001</td>\n",
       "    </tr>\n",
       "    <tr>\n",
       "      <th>5247</th>\n",
       "      <td>15.0001</td>\n",
       "      <td>36.0</td>\n",
       "      <td>9.368263</td>\n",
       "      <td>1.173653</td>\n",
       "      <td>862.0</td>\n",
       "      <td>2.580838</td>\n",
       "      <td>34.09</td>\n",
       "      <td>-118.44</td>\n",
       "      <td>5.00001</td>\n",
       "    </tr>\n",
       "    <tr>\n",
       "      <th>5248</th>\n",
       "      <td>15.0001</td>\n",
       "      <td>46.0</td>\n",
       "      <td>8.365591</td>\n",
       "      <td>0.967742</td>\n",
       "      <td>238.0</td>\n",
       "      <td>2.559140</td>\n",
       "      <td>34.08</td>\n",
       "      <td>-118.43</td>\n",
       "      <td>5.00001</td>\n",
       "    </tr>\n",
       "    <tr>\n",
       "      <th>5257</th>\n",
       "      <td>15.0001</td>\n",
       "      <td>42.0</td>\n",
       "      <td>9.229032</td>\n",
       "      <td>1.161290</td>\n",
       "      <td>829.0</td>\n",
       "      <td>2.674194</td>\n",
       "      <td>34.06</td>\n",
       "      <td>-118.49</td>\n",
       "      <td>5.00001</td>\n",
       "    </tr>\n",
       "    <tr>\n",
       "      <th>5275</th>\n",
       "      <td>15.0001</td>\n",
       "      <td>36.0</td>\n",
       "      <td>7.549091</td>\n",
       "      <td>0.985455</td>\n",
       "      <td>1461.0</td>\n",
       "      <td>2.656364</td>\n",
       "      <td>34.05</td>\n",
       "      <td>-118.50</td>\n",
       "      <td>5.00001</td>\n",
       "    </tr>\n",
       "    <tr>\n",
       "      <th>18501</th>\n",
       "      <td>15.0001</td>\n",
       "      <td>52.0</td>\n",
       "      <td>8.461538</td>\n",
       "      <td>1.230769</td>\n",
       "      <td>55.0</td>\n",
       "      <td>2.115385</td>\n",
       "      <td>37.19</td>\n",
       "      <td>-121.59</td>\n",
       "      <td>1.31300</td>\n",
       "    </tr>\n",
       "    <tr>\n",
       "      <th>5281</th>\n",
       "      <td>15.0001</td>\n",
       "      <td>42.0</td>\n",
       "      <td>8.562500</td>\n",
       "      <td>0.964286</td>\n",
       "      <td>632.0</td>\n",
       "      <td>2.821429</td>\n",
       "      <td>34.05</td>\n",
       "      <td>-118.49</td>\n",
       "      <td>5.00001</td>\n",
       "    </tr>\n",
       "    <tr>\n",
       "      <th>6391</th>\n",
       "      <td>15.0001</td>\n",
       "      <td>37.0</td>\n",
       "      <td>8.761062</td>\n",
       "      <td>1.000000</td>\n",
       "      <td>697.0</td>\n",
       "      <td>3.084071</td>\n",
       "      <td>34.15</td>\n",
       "      <td>-118.06</td>\n",
       "      <td>5.00001</td>\n",
       "    </tr>\n",
       "    <tr>\n",
       "      <th>6399</th>\n",
       "      <td>15.0001</td>\n",
       "      <td>35.0</td>\n",
       "      <td>8.586207</td>\n",
       "      <td>1.068966</td>\n",
       "      <td>268.0</td>\n",
       "      <td>9.241379</td>\n",
       "      <td>34.13</td>\n",
       "      <td>-118.04</td>\n",
       "      <td>5.00001</td>\n",
       "    </tr>\n",
       "    <tr>\n",
       "      <th>6590</th>\n",
       "      <td>15.0001</td>\n",
       "      <td>48.0</td>\n",
       "      <td>8.845161</td>\n",
       "      <td>1.058065</td>\n",
       "      <td>528.0</td>\n",
       "      <td>3.406452</td>\n",
       "      <td>34.19</td>\n",
       "      <td>-118.18</td>\n",
       "      <td>5.00001</td>\n",
       "    </tr>\n",
       "    <tr>\n",
       "      <th>6591</th>\n",
       "      <td>15.0001</td>\n",
       "      <td>34.0</td>\n",
       "      <td>8.114173</td>\n",
       "      <td>1.023622</td>\n",
       "      <td>825.0</td>\n",
       "      <td>3.248031</td>\n",
       "      <td>34.19</td>\n",
       "      <td>-118.19</td>\n",
       "      <td>5.00001</td>\n",
       "    </tr>\n",
       "    <tr>\n",
       "      <th>6592</th>\n",
       "      <td>15.0001</td>\n",
       "      <td>38.0</td>\n",
       "      <td>8.954733</td>\n",
       "      <td>1.094650</td>\n",
       "      <td>798.0</td>\n",
       "      <td>3.283951</td>\n",
       "      <td>34.19</td>\n",
       "      <td>-118.20</td>\n",
       "      <td>5.00001</td>\n",
       "    </tr>\n",
       "    <tr>\n",
       "      <th>6727</th>\n",
       "      <td>15.0001</td>\n",
       "      <td>52.0</td>\n",
       "      <td>10.419355</td>\n",
       "      <td>1.136201</td>\n",
       "      <td>956.0</td>\n",
       "      <td>3.426523</td>\n",
       "      <td>34.12</td>\n",
       "      <td>-118.12</td>\n",
       "      <td>5.00001</td>\n",
       "    </tr>\n",
       "    <tr>\n",
       "      <th>6736</th>\n",
       "      <td>15.0001</td>\n",
       "      <td>47.0</td>\n",
       "      <td>8.592308</td>\n",
       "      <td>1.061538</td>\n",
       "      <td>749.0</td>\n",
       "      <td>2.880769</td>\n",
       "      <td>34.13</td>\n",
       "      <td>-118.10</td>\n",
       "      <td>5.00001</td>\n",
       "    </tr>\n",
       "    <tr>\n",
       "      <th>8805</th>\n",
       "      <td>15.0001</td>\n",
       "      <td>34.0</td>\n",
       "      <td>8.783019</td>\n",
       "      <td>1.059748</td>\n",
       "      <td>1871.0</td>\n",
       "      <td>2.941824</td>\n",
       "      <td>33.76</td>\n",
       "      <td>-118.34</td>\n",
       "      <td>5.00001</td>\n",
       "    </tr>\n",
       "    <tr>\n",
       "      <th>8846</th>\n",
       "      <td>15.0001</td>\n",
       "      <td>27.0</td>\n",
       "      <td>7.651923</td>\n",
       "      <td>0.980769</td>\n",
       "      <td>1351.0</td>\n",
       "      <td>2.598077</td>\n",
       "      <td>34.10</td>\n",
       "      <td>-118.40</td>\n",
       "      <td>5.00001</td>\n",
       "    </tr>\n",
       "    <tr>\n",
       "      <th>8847</th>\n",
       "      <td>15.0001</td>\n",
       "      <td>45.0</td>\n",
       "      <td>10.370656</td>\n",
       "      <td>1.092664</td>\n",
       "      <td>857.0</td>\n",
       "      <td>3.308880</td>\n",
       "      <td>34.09</td>\n",
       "      <td>-118.40</td>\n",
       "      <td>5.00001</td>\n",
       "    </tr>\n",
       "    <tr>\n",
       "      <th>8848</th>\n",
       "      <td>15.0001</td>\n",
       "      <td>52.0</td>\n",
       "      <td>8.907583</td>\n",
       "      <td>1.099526</td>\n",
       "      <td>1407.0</td>\n",
       "      <td>3.334123</td>\n",
       "      <td>34.08</td>\n",
       "      <td>-118.39</td>\n",
       "      <td>5.00001</td>\n",
       "    </tr>\n",
       "    <tr>\n",
       "      <th>5291</th>\n",
       "      <td>15.0001</td>\n",
       "      <td>46.0</td>\n",
       "      <td>9.203947</td>\n",
       "      <td>0.973684</td>\n",
       "      <td>410.0</td>\n",
       "      <td>2.697368</td>\n",
       "      <td>34.08</td>\n",
       "      <td>-118.42</td>\n",
       "      <td>5.00001</td>\n",
       "    </tr>\n",
       "    <tr>\n",
       "      <th>18504</th>\n",
       "      <td>15.0001</td>\n",
       "      <td>26.0</td>\n",
       "      <td>12.500000</td>\n",
       "      <td>1.250000</td>\n",
       "      <td>17.0</td>\n",
       "      <td>4.250000</td>\n",
       "      <td>37.13</td>\n",
       "      <td>-121.96</td>\n",
       "      <td>4.00000</td>\n",
       "    </tr>\n",
       "  </tbody>\n",
       "</table>\n",
       "</div>"
      ],
      "text/plain": [
       "        MedInc  HouseAge   AveRooms  AveBedrms  Population   AveOccup  \\\n",
       "5304   14.2867      49.0   7.603774   0.946541       850.0   2.672956   \n",
       "15698  14.2959      52.0   8.172727   0.872727       304.0   2.763636   \n",
       "9811   14.4113      28.0  11.634686   1.509225       569.0   2.099631   \n",
       "16915  14.4219      52.0   8.253731   0.950249       519.0   2.582090   \n",
       "9370   14.5833      24.0   5.613333   0.853333       163.0   2.173333   \n",
       "10483  14.9009       8.0   9.860169   1.114407       899.0   3.809322   \n",
       "18052  15.0000      19.0   7.626263   0.939394       267.0   2.696970   \n",
       "5260   15.0000      39.0   9.293750   1.018750       414.0   2.587500   \n",
       "8853   15.0001      52.0   9.867036   1.091413      1163.0   3.221607   \n",
       "8854   15.0001      52.0   8.710145   1.028986       408.0   2.956522   \n",
       "8878   15.0001      52.0   8.000000   0.997333      1143.0   3.048000   \n",
       "10673  15.0001      13.0   7.842900   0.993958      1865.0   2.817221   \n",
       "10760  15.0001      15.0   8.062044   1.003650       735.0   2.682482   \n",
       "11520  15.0001      14.0   8.354232   1.037618       964.0   3.021944   \n",
       "15241  15.0001      17.0   8.520376   1.021944      1011.0   3.169279   \n",
       "15693  15.0001      52.0   7.994475   1.027624       483.0   2.668508   \n",
       "1566   15.0001       2.0  22.222222   2.222222        25.0   2.777778   \n",
       "16171  15.0001      52.0   8.000000   1.000000        13.0  13.000000   \n",
       "16910  15.0001      32.0   9.166341   1.056751      1512.0   2.958904   \n",
       "17107  15.0001      31.0   9.425101   1.093117       722.0   2.923077   \n",
       "17108  15.0001      32.0   8.845041   1.035124      1318.0   2.723140   \n",
       "17110  15.0001      40.0   8.584541   1.000000       577.0   2.787440   \n",
       "17111  15.0001      40.0   9.802326   1.135659       831.0   3.220930   \n",
       "17118  15.0001      46.0   6.000000   0.800000        13.0   2.600000   \n",
       "17166  15.0001      32.0   8.116608   1.014134       814.0   2.876325   \n",
       "17170  15.0001      33.0   7.446512   1.037209       629.0   2.925581   \n",
       "17858  15.0001      43.0   5.687500   0.750000        58.0   3.625000   \n",
       "8852   15.0001      48.0   9.729839   1.052419       770.0   3.104839   \n",
       "8851   15.0001      40.0   9.600000   1.059459      1024.0   2.767568   \n",
       "8850   15.0001      37.0   9.333333   1.037801       809.0   2.780069   \n",
       "8849   15.0001      52.0   9.237288   1.062954      1266.0   3.065375   \n",
       "4352   15.0001      37.0   8.659574   1.425532       100.0   2.127660   \n",
       "4604   15.0001      52.0   8.444954   1.100917       693.0   3.178899   \n",
       "4605   15.0001      52.0   8.483019   0.962264       813.0   3.067925   \n",
       "4606   15.0001      52.0   9.204969   1.062112       531.0   3.298137   \n",
       "4626   15.0001      52.0   7.958333   0.833333       457.0   3.808333   \n",
       "4678   15.0001      52.0   8.780612   0.994898       688.0   3.510204   \n",
       "5242   15.0001      32.0   8.002869   1.080344      1567.0   2.248207   \n",
       "5247   15.0001      36.0   9.368263   1.173653       862.0   2.580838   \n",
       "5248   15.0001      46.0   8.365591   0.967742       238.0   2.559140   \n",
       "5257   15.0001      42.0   9.229032   1.161290       829.0   2.674194   \n",
       "5275   15.0001      36.0   7.549091   0.985455      1461.0   2.656364   \n",
       "18501  15.0001      52.0   8.461538   1.230769        55.0   2.115385   \n",
       "5281   15.0001      42.0   8.562500   0.964286       632.0   2.821429   \n",
       "6391   15.0001      37.0   8.761062   1.000000       697.0   3.084071   \n",
       "6399   15.0001      35.0   8.586207   1.068966       268.0   9.241379   \n",
       "6590   15.0001      48.0   8.845161   1.058065       528.0   3.406452   \n",
       "6591   15.0001      34.0   8.114173   1.023622       825.0   3.248031   \n",
       "6592   15.0001      38.0   8.954733   1.094650       798.0   3.283951   \n",
       "6727   15.0001      52.0  10.419355   1.136201       956.0   3.426523   \n",
       "6736   15.0001      47.0   8.592308   1.061538       749.0   2.880769   \n",
       "8805   15.0001      34.0   8.783019   1.059748      1871.0   2.941824   \n",
       "8846   15.0001      27.0   7.651923   0.980769      1351.0   2.598077   \n",
       "8847   15.0001      45.0  10.370656   1.092664       857.0   3.308880   \n",
       "8848   15.0001      52.0   8.907583   1.099526      1407.0   3.334123   \n",
       "5291   15.0001      46.0   9.203947   0.973684       410.0   2.697368   \n",
       "18504  15.0001      26.0  12.500000   1.250000        17.0   4.250000   \n",
       "\n",
       "       Latitude  Longitude  MedHouseVal  \n",
       "5304      34.07    -118.46      5.00001  \n",
       "15698     37.79    -122.46      5.00001  \n",
       "9811      36.57    -121.94      5.00001  \n",
       "16915     37.56    -122.35      5.00001  \n",
       "9370      37.92    -122.52      5.00001  \n",
       "10483     33.59    -117.68      5.00001  \n",
       "18052     37.25    -121.98      5.00001  \n",
       "5260      34.05    -118.50      5.00001  \n",
       "8853      34.07    -118.41      5.00001  \n",
       "8854      34.07    -118.41      5.00001  \n",
       "8878      34.04    -118.50      5.00001  \n",
       "10673     33.62    -117.85      5.00001  \n",
       "10760     33.62    -117.87      5.00001  \n",
       "11520     33.72    -118.06      5.00001  \n",
       "15241     32.99    -117.23      5.00001  \n",
       "15693     37.79    -122.44      5.00001  \n",
       "1566      37.74    -121.96      3.50000  \n",
       "16171     37.79    -122.50      5.00001  \n",
       "16910     37.56    -122.36      5.00001  \n",
       "17107     37.44    -122.20      5.00001  \n",
       "17108     37.44    -122.22      5.00001  \n",
       "17110     37.46    -122.21      5.00001  \n",
       "17111     37.46    -122.18      5.00001  \n",
       "17118     37.50    -122.14      5.00001  \n",
       "17166     37.40    -122.22      5.00001  \n",
       "17170     37.43    -122.27      5.00001  \n",
       "17858     37.46    -121.87      5.00001  \n",
       "8852      34.08    -118.42      5.00001  \n",
       "8851      34.09    -118.42      5.00001  \n",
       "8850      34.09    -118.41      5.00001  \n",
       "8849      34.08    -118.40      5.00001  \n",
       "4352      34.10    -118.37      5.00001  \n",
       "4604      34.06    -118.33      5.00001  \n",
       "4605      34.07    -118.33      5.00001  \n",
       "4606      34.07    -118.33      5.00001  \n",
       "4626      34.06    -118.32      5.00001  \n",
       "4678      34.08    -118.34      5.00001  \n",
       "5242      34.11    -118.40      5.00001  \n",
       "5247      34.09    -118.44      5.00001  \n",
       "5248      34.08    -118.43      5.00001  \n",
       "5257      34.06    -118.49      5.00001  \n",
       "5275      34.05    -118.50      5.00001  \n",
       "18501     37.19    -121.59      1.31300  \n",
       "5281      34.05    -118.49      5.00001  \n",
       "6391      34.15    -118.06      5.00001  \n",
       "6399      34.13    -118.04      5.00001  \n",
       "6590      34.19    -118.18      5.00001  \n",
       "6591      34.19    -118.19      5.00001  \n",
       "6592      34.19    -118.20      5.00001  \n",
       "6727      34.12    -118.12      5.00001  \n",
       "6736      34.13    -118.10      5.00001  \n",
       "8805      33.76    -118.34      5.00001  \n",
       "8846      34.10    -118.40      5.00001  \n",
       "8847      34.09    -118.40      5.00001  \n",
       "8848      34.08    -118.39      5.00001  \n",
       "5291      34.08    -118.42      5.00001  \n",
       "18504     37.13    -121.96      4.00000  "
      ]
     },
     "execution_count": 8,
     "metadata": {},
     "output_type": "execute_result"
    }
   ],
   "source": [
    "house_prices[house_prices.MedInc > 14].sort_values(\"MedInc\")"
   ]
  },
  {
   "cell_type": "code",
   "execution_count": 9,
   "id": "8576feae-156c-4e24-82cc-4676103d0bc6",
   "metadata": {},
   "outputs": [
    {
     "data": {
      "text/plain": [
       "(20640, 9)"
      ]
     },
     "execution_count": 9,
     "metadata": {},
     "output_type": "execute_result"
    }
   ],
   "source": [
    "house_prices.drop_duplicates().shape"
   ]
  },
  {
   "cell_type": "markdown",
   "id": "f232367a-0a3d-4db8-acb1-ca74b174654a",
   "metadata": {},
   "source": [
    "Спрямо всички данни нямаме повторения "
   ]
  },
  {
   "cell_type": "markdown",
   "id": "e349afa1-cfad-4de9-80f1-3c05a2860231",
   "metadata": {},
   "source": [
    "Гледаме и коефициенти за корелация. В Python методът corr() се използва за изчисляване на коефициента на корелация между числовите колони на един DataFrame в pandas. Корелацията е статистическа мярка, която показва връзката между две променливи – дали и как една променлива се променя спрямо друга."
   ]
  },
  {
   "cell_type": "code",
   "execution_count": 10,
   "id": "6999c8e9-41e6-493c-acf1-6647af85d28b",
   "metadata": {},
   "outputs": [
    {
     "data": {
      "text/html": [
       "<div>\n",
       "<style scoped>\n",
       "    .dataframe tbody tr th:only-of-type {\n",
       "        vertical-align: middle;\n",
       "    }\n",
       "\n",
       "    .dataframe tbody tr th {\n",
       "        vertical-align: top;\n",
       "    }\n",
       "\n",
       "    .dataframe thead th {\n",
       "        text-align: right;\n",
       "    }\n",
       "</style>\n",
       "<table border=\"1\" class=\"dataframe\">\n",
       "  <thead>\n",
       "    <tr style=\"text-align: right;\">\n",
       "      <th></th>\n",
       "      <th>MedInc</th>\n",
       "      <th>HouseAge</th>\n",
       "      <th>AveRooms</th>\n",
       "      <th>AveBedrms</th>\n",
       "      <th>Population</th>\n",
       "      <th>AveOccup</th>\n",
       "      <th>Latitude</th>\n",
       "      <th>Longitude</th>\n",
       "      <th>MedHouseVal</th>\n",
       "    </tr>\n",
       "  </thead>\n",
       "  <tbody>\n",
       "    <tr>\n",
       "      <th>MedInc</th>\n",
       "      <td>1.000000</td>\n",
       "      <td>-0.119034</td>\n",
       "      <td>0.326895</td>\n",
       "      <td>-0.062040</td>\n",
       "      <td>0.004834</td>\n",
       "      <td>0.018766</td>\n",
       "      <td>-0.079809</td>\n",
       "      <td>-0.015176</td>\n",
       "      <td>0.688075</td>\n",
       "    </tr>\n",
       "    <tr>\n",
       "      <th>HouseAge</th>\n",
       "      <td>-0.119034</td>\n",
       "      <td>1.000000</td>\n",
       "      <td>-0.153277</td>\n",
       "      <td>-0.077747</td>\n",
       "      <td>-0.296244</td>\n",
       "      <td>0.013191</td>\n",
       "      <td>0.011173</td>\n",
       "      <td>-0.108197</td>\n",
       "      <td>0.105623</td>\n",
       "    </tr>\n",
       "    <tr>\n",
       "      <th>AveRooms</th>\n",
       "      <td>0.326895</td>\n",
       "      <td>-0.153277</td>\n",
       "      <td>1.000000</td>\n",
       "      <td>0.847621</td>\n",
       "      <td>-0.072213</td>\n",
       "      <td>-0.004852</td>\n",
       "      <td>0.106389</td>\n",
       "      <td>-0.027540</td>\n",
       "      <td>0.151948</td>\n",
       "    </tr>\n",
       "    <tr>\n",
       "      <th>AveBedrms</th>\n",
       "      <td>-0.062040</td>\n",
       "      <td>-0.077747</td>\n",
       "      <td>0.847621</td>\n",
       "      <td>1.000000</td>\n",
       "      <td>-0.066197</td>\n",
       "      <td>-0.006181</td>\n",
       "      <td>0.069721</td>\n",
       "      <td>0.013344</td>\n",
       "      <td>-0.046701</td>\n",
       "    </tr>\n",
       "    <tr>\n",
       "      <th>Population</th>\n",
       "      <td>0.004834</td>\n",
       "      <td>-0.296244</td>\n",
       "      <td>-0.072213</td>\n",
       "      <td>-0.066197</td>\n",
       "      <td>1.000000</td>\n",
       "      <td>0.069863</td>\n",
       "      <td>-0.108785</td>\n",
       "      <td>0.099773</td>\n",
       "      <td>-0.024650</td>\n",
       "    </tr>\n",
       "    <tr>\n",
       "      <th>AveOccup</th>\n",
       "      <td>0.018766</td>\n",
       "      <td>0.013191</td>\n",
       "      <td>-0.004852</td>\n",
       "      <td>-0.006181</td>\n",
       "      <td>0.069863</td>\n",
       "      <td>1.000000</td>\n",
       "      <td>0.002366</td>\n",
       "      <td>0.002476</td>\n",
       "      <td>-0.023737</td>\n",
       "    </tr>\n",
       "    <tr>\n",
       "      <th>Latitude</th>\n",
       "      <td>-0.079809</td>\n",
       "      <td>0.011173</td>\n",
       "      <td>0.106389</td>\n",
       "      <td>0.069721</td>\n",
       "      <td>-0.108785</td>\n",
       "      <td>0.002366</td>\n",
       "      <td>1.000000</td>\n",
       "      <td>-0.924664</td>\n",
       "      <td>-0.144160</td>\n",
       "    </tr>\n",
       "    <tr>\n",
       "      <th>Longitude</th>\n",
       "      <td>-0.015176</td>\n",
       "      <td>-0.108197</td>\n",
       "      <td>-0.027540</td>\n",
       "      <td>0.013344</td>\n",
       "      <td>0.099773</td>\n",
       "      <td>0.002476</td>\n",
       "      <td>-0.924664</td>\n",
       "      <td>1.000000</td>\n",
       "      <td>-0.045967</td>\n",
       "    </tr>\n",
       "    <tr>\n",
       "      <th>MedHouseVal</th>\n",
       "      <td>0.688075</td>\n",
       "      <td>0.105623</td>\n",
       "      <td>0.151948</td>\n",
       "      <td>-0.046701</td>\n",
       "      <td>-0.024650</td>\n",
       "      <td>-0.023737</td>\n",
       "      <td>-0.144160</td>\n",
       "      <td>-0.045967</td>\n",
       "      <td>1.000000</td>\n",
       "    </tr>\n",
       "  </tbody>\n",
       "</table>\n",
       "</div>"
      ],
      "text/plain": [
       "               MedInc  HouseAge  AveRooms  AveBedrms  Population  AveOccup  \\\n",
       "MedInc       1.000000 -0.119034  0.326895  -0.062040    0.004834  0.018766   \n",
       "HouseAge    -0.119034  1.000000 -0.153277  -0.077747   -0.296244  0.013191   \n",
       "AveRooms     0.326895 -0.153277  1.000000   0.847621   -0.072213 -0.004852   \n",
       "AveBedrms   -0.062040 -0.077747  0.847621   1.000000   -0.066197 -0.006181   \n",
       "Population   0.004834 -0.296244 -0.072213  -0.066197    1.000000  0.069863   \n",
       "AveOccup     0.018766  0.013191 -0.004852  -0.006181    0.069863  1.000000   \n",
       "Latitude    -0.079809  0.011173  0.106389   0.069721   -0.108785  0.002366   \n",
       "Longitude   -0.015176 -0.108197 -0.027540   0.013344    0.099773  0.002476   \n",
       "MedHouseVal  0.688075  0.105623  0.151948  -0.046701   -0.024650 -0.023737   \n",
       "\n",
       "             Latitude  Longitude  MedHouseVal  \n",
       "MedInc      -0.079809  -0.015176     0.688075  \n",
       "HouseAge     0.011173  -0.108197     0.105623  \n",
       "AveRooms     0.106389  -0.027540     0.151948  \n",
       "AveBedrms    0.069721   0.013344    -0.046701  \n",
       "Population  -0.108785   0.099773    -0.024650  \n",
       "AveOccup     0.002366   0.002476    -0.023737  \n",
       "Latitude     1.000000  -0.924664    -0.144160  \n",
       "Longitude   -0.924664   1.000000    -0.045967  \n",
       "MedHouseVal -0.144160  -0.045967     1.000000  "
      ]
     },
     "execution_count": 10,
     "metadata": {},
     "output_type": "execute_result"
    }
   ],
   "source": [
    "house_prices.corr()"
   ]
  },
  {
   "cell_type": "markdown",
   "id": "f30d961d-c4ee-4409-b1e2-8334975f6e73",
   "metadata": {},
   "source": [
    "MedInc към MedHouseVal - много голям предиктор. Явно колкото е по-скъп квартала толкова са по-скъпи къщите в него. "
   ]
  },
  {
   "cell_type": "markdown",
   "id": "1e5f0be1-513a-4ff7-bfc0-1a53b3c17329",
   "metadata": {},
   "source": [
    "Гледаме и HouseAge щото не искаме да ни изненада. "
   ]
  },
  {
   "cell_type": "code",
   "execution_count": 11,
   "id": "1f72448d-7de3-413e-af22-7713fc8a1dde",
   "metadata": {},
   "outputs": [
    {
     "data": {
      "image/png": "[encoded data removed]",
      "text/plain": [
       "<Figure size 640x480 with 1 Axes>"
      ]
     },
     "metadata": {},
     "output_type": "display_data"
    }
   ],
   "source": [
    "plt.hist(house_prices.HouseAge, bins=\"fd\")\n",
    "plt.show()"
   ]
  },
  {
   "cell_type": "markdown",
   "id": "1b0d847a-5ce9-404a-a3ce-6a636b8d0671",
   "metadata": {},
   "source": [
    "HouseAge е непрекъсната, ама е дискретизирана. "
   ]
  },
  {
   "cell_type": "code",
   "execution_count": 12,
   "id": "70b17ff8-8d06-4375-b021-8f86d0cb4a40",
   "metadata": {},
   "outputs": [
    {
     "data": {
      "text/plain": [
       "HouseAge\n",
       "52.0    1273\n",
       "36.0     862\n",
       "35.0     824\n",
       "16.0     771\n",
       "17.0     698\n",
       "34.0     689\n",
       "26.0     619\n",
       "33.0     615\n",
       "18.0     570\n",
       "25.0     566\n",
       "32.0     565\n",
       "37.0     537\n",
       "15.0     512\n",
       "19.0     502\n",
       "27.0     488\n",
       "24.0     478\n",
       "30.0     476\n",
       "28.0     471\n",
       "20.0     465\n",
       "29.0     461\n",
       "31.0     458\n",
       "23.0     448\n",
       "21.0     446\n",
       "14.0     412\n",
       "22.0     399\n",
       "38.0     394\n",
       "39.0     369\n",
       "42.0     368\n",
       "44.0     356\n",
       "43.0     353\n",
       "40.0     304\n",
       "13.0     302\n",
       "41.0     296\n",
       "45.0     294\n",
       "10.0     264\n",
       "11.0     254\n",
       "46.0     245\n",
       "5.0      244\n",
       "12.0     238\n",
       "8.0      206\n",
       "9.0      205\n",
       "47.0     198\n",
       "4.0      191\n",
       "48.0     177\n",
       "7.0      175\n",
       "6.0      160\n",
       "50.0     136\n",
       "49.0     134\n",
       "3.0       62\n",
       "2.0       58\n",
       "51.0      48\n",
       "1.0        4\n",
       "Name: count, dtype: int64"
      ]
     },
     "execution_count": 12,
     "metadata": {},
     "output_type": "execute_result"
    }
   ],
   "source": [
    "house_prices.HouseAge.value_counts()"
   ]
  },
  {
   "cell_type": "markdown",
   "id": "988f62a1-3c62-40b1-9b0f-b0f2b933f655",
   "metadata": {},
   "source": [
    "имаме цели числа. Тоест ако една сграда е 41, 5 години или медианата е 41, 5. е закръглена до цяло число"
   ]
  },
  {
   "cell_type": "code",
   "execution_count": 13,
   "id": "d9678103-4475-4d7a-bd32-20ac2fe50751",
   "metadata": {},
   "outputs": [
    {
     "data": {
      "image/png": "[encoded data removed]",
      "text/plain": [
       "<Figure size 640x480 with 1 Axes>"
      ]
     },
     "metadata": {},
     "output_type": "display_data"
    }
   ],
   "source": [
    "plt.hist(house_prices.HouseAge, bins = 20)\n",
    "plt.show()"
   ]
  },
  {
   "cell_type": "markdown",
   "id": "7f7e95eb-e0dd-4519-9180-2d1d930e5e97",
   "metadata": {},
   "source": [
    "Друго което можем да видим е локация спрямо цена. "
   ]
  },
  {
   "cell_type": "markdown",
   "id": "c0d9443f-da5e-4a99-829d-4aedcfd52fd3",
   "metadata": {},
   "source": [
    "Гледаме Average Occupancy "
   ]
  },
  {
   "cell_type": "code",
   "execution_count": 14,
   "id": "daa6fe38-bbac-411b-889d-7e75bc33850d",
   "metadata": {},
   "outputs": [
    {
     "data": {
      "image/png": "[encoded data removed]",
      "text/plain": [
       "<Figure size 640x480 with 1 Axes>"
      ]
     },
     "metadata": {},
     "output_type": "display_data"
    }
   ],
   "source": [
    "plt.hist(house_prices.AveOccup, bins = \"fd\")\n",
    "plt.show()"
   ]
  },
  {
   "cell_type": "markdown",
   "id": "5ff6504f-ec85-47fd-a7df-2b0bba1e7763",
   "metadata": {},
   "source": [
    "Тука имаме около 0, но имаме стойности 1200. Да помислим как работи един линеен модел - y tilda = a(occ). Ако числото а е много голямо, при малка промяна на входните данни разликата в резултата ще бъде огромна. И обратно - ако а e много малко, колкото и да променяме входните данни, резултата няма да се промени особено. Което показва нещо просто - някои числа просто са по-големи от други и като такива ще имат по-голямо влияние върху други, просто щото такива са били числата. Ама не искаме да става така. Ако имаме числа 1 и 1000 - малки промени около 1000 ще имат 1000 пъти по-голям ефект от малки промени върху 1"
   ]
  },
  {
   "cell_type": "code",
   "execution_count": 15,
   "id": "5685b339-1e09-4322-af68-b3f6e5e7bced",
   "metadata": {},
   "outputs": [
    {
     "data": {
      "image/png": "[encoded data removed]",
      "text/plain": [
       "<Figure size 640x480 with 1 Axes>"
      ]
     },
     "metadata": {},
     "output_type": "display_data"
    }
   ],
   "source": [
    "plt.hist(np.log10(house_prices.AveOccup), bins = \"fd\")\n",
    "plt.show()"
   ]
  },
  {
   "cell_type": "markdown",
   "id": "03788b5d-80a1-463e-aa18-e6afeaac8b00",
   "metadata": {},
   "source": [
    "Не е гаусово разпределение, щото има голяма опашка, но виждаме средна стойност 10 на степен 0.4 - към 2.512. Нека да видим дали имам outliers. "
   ]
  },
  {
   "cell_type": "code",
   "execution_count": 16,
   "id": "c8010394-b82b-49af-b98e-c347d6ab92e7",
   "metadata": {},
   "outputs": [
    {
     "data": {
      "text/html": [
       "<div>\n",
       "<style scoped>\n",
       "    .dataframe tbody tr th:only-of-type {\n",
       "        vertical-align: middle;\n",
       "    }\n",
       "\n",
       "    .dataframe tbody tr th {\n",
       "        vertical-align: top;\n",
       "    }\n",
       "\n",
       "    .dataframe thead th {\n",
       "        text-align: right;\n",
       "    }\n",
       "</style>\n",
       "<table border=\"1\" class=\"dataframe\">\n",
       "  <thead>\n",
       "    <tr style=\"text-align: right;\">\n",
       "      <th></th>\n",
       "      <th>MedInc</th>\n",
       "      <th>HouseAge</th>\n",
       "      <th>AveRooms</th>\n",
       "      <th>AveBedrms</th>\n",
       "      <th>Population</th>\n",
       "      <th>AveOccup</th>\n",
       "      <th>Latitude</th>\n",
       "      <th>Longitude</th>\n",
       "      <th>MedHouseVal</th>\n",
       "    </tr>\n",
       "  </thead>\n",
       "  <tbody>\n",
       "    <tr>\n",
       "      <th>13366</th>\n",
       "      <td>4.2578</td>\n",
       "      <td>36.0</td>\n",
       "      <td>5.258824</td>\n",
       "      <td>1.117647</td>\n",
       "      <td>2886.0</td>\n",
       "      <td>33.952941</td>\n",
       "      <td>33.94</td>\n",
       "      <td>-117.63</td>\n",
       "      <td>1.83300</td>\n",
       "    </tr>\n",
       "    <tr>\n",
       "      <th>8874</th>\n",
       "      <td>9.3370</td>\n",
       "      <td>52.0</td>\n",
       "      <td>7.285714</td>\n",
       "      <td>1.214286</td>\n",
       "      <td>1154.0</td>\n",
       "      <td>41.214286</td>\n",
       "      <td>34.06</td>\n",
       "      <td>-118.45</td>\n",
       "      <td>5.00001</td>\n",
       "    </tr>\n",
       "    <tr>\n",
       "      <th>16420</th>\n",
       "      <td>5.7485</td>\n",
       "      <td>26.0</td>\n",
       "      <td>5.366667</td>\n",
       "      <td>0.900000</td>\n",
       "      <td>1542.0</td>\n",
       "      <td>51.400000</td>\n",
       "      <td>37.89</td>\n",
       "      <td>-121.29</td>\n",
       "      <td>1.62500</td>\n",
       "    </tr>\n",
       "    <tr>\n",
       "      <th>12104</th>\n",
       "      <td>1.6250</td>\n",
       "      <td>8.0</td>\n",
       "      <td>7.600000</td>\n",
       "      <td>0.950000</td>\n",
       "      <td>1275.0</td>\n",
       "      <td>63.750000</td>\n",
       "      <td>33.97</td>\n",
       "      <td>-117.33</td>\n",
       "      <td>1.62500</td>\n",
       "    </tr>\n",
       "    <tr>\n",
       "      <th>9172</th>\n",
       "      <td>4.2391</td>\n",
       "      <td>5.0</td>\n",
       "      <td>5.123810</td>\n",
       "      <td>0.933333</td>\n",
       "      <td>8733.0</td>\n",
       "      <td>83.171429</td>\n",
       "      <td>34.47</td>\n",
       "      <td>-118.59</td>\n",
       "      <td>1.54600</td>\n",
       "    </tr>\n",
       "    <tr>\n",
       "      <th>13034</th>\n",
       "      <td>6.1359</td>\n",
       "      <td>52.0</td>\n",
       "      <td>8.275862</td>\n",
       "      <td>1.517241</td>\n",
       "      <td>6675.0</td>\n",
       "      <td>230.172414</td>\n",
       "      <td>38.69</td>\n",
       "      <td>-121.15</td>\n",
       "      <td>2.25000</td>\n",
       "    </tr>\n",
       "    <tr>\n",
       "      <th>16669</th>\n",
       "      <td>4.2639</td>\n",
       "      <td>46.0</td>\n",
       "      <td>9.076923</td>\n",
       "      <td>1.307692</td>\n",
       "      <td>6532.0</td>\n",
       "      <td>502.461538</td>\n",
       "      <td>35.32</td>\n",
       "      <td>-120.70</td>\n",
       "      <td>3.50000</td>\n",
       "    </tr>\n",
       "    <tr>\n",
       "      <th>3364</th>\n",
       "      <td>5.5179</td>\n",
       "      <td>36.0</td>\n",
       "      <td>5.142857</td>\n",
       "      <td>1.142857</td>\n",
       "      <td>4198.0</td>\n",
       "      <td>599.714286</td>\n",
       "      <td>40.41</td>\n",
       "      <td>-120.51</td>\n",
       "      <td>0.67500</td>\n",
       "    </tr>\n",
       "    <tr>\n",
       "      <th>19006</th>\n",
       "      <td>10.2264</td>\n",
       "      <td>45.0</td>\n",
       "      <td>3.166667</td>\n",
       "      <td>0.833333</td>\n",
       "      <td>7460.0</td>\n",
       "      <td>1243.333333</td>\n",
       "      <td>38.32</td>\n",
       "      <td>-121.98</td>\n",
       "      <td>1.37500</td>\n",
       "    </tr>\n",
       "  </tbody>\n",
       "</table>\n",
       "</div>"
      ],
      "text/plain": [
       "        MedInc  HouseAge  AveRooms  AveBedrms  Population     AveOccup  \\\n",
       "13366   4.2578      36.0  5.258824   1.117647      2886.0    33.952941   \n",
       "8874    9.3370      52.0  7.285714   1.214286      1154.0    41.214286   \n",
       "16420   5.7485      26.0  5.366667   0.900000      1542.0    51.400000   \n",
       "12104   1.6250       8.0  7.600000   0.950000      1275.0    63.750000   \n",
       "9172    4.2391       5.0  5.123810   0.933333      8733.0    83.171429   \n",
       "13034   6.1359      52.0  8.275862   1.517241      6675.0   230.172414   \n",
       "16669   4.2639      46.0  9.076923   1.307692      6532.0   502.461538   \n",
       "3364    5.5179      36.0  5.142857   1.142857      4198.0   599.714286   \n",
       "19006  10.2264      45.0  3.166667   0.833333      7460.0  1243.333333   \n",
       "\n",
       "       Latitude  Longitude  MedHouseVal  \n",
       "13366     33.94    -117.63      1.83300  \n",
       "8874      34.06    -118.45      5.00001  \n",
       "16420     37.89    -121.29      1.62500  \n",
       "12104     33.97    -117.33      1.62500  \n",
       "9172      34.47    -118.59      1.54600  \n",
       "13034     38.69    -121.15      2.25000  \n",
       "16669     35.32    -120.70      3.50000  \n",
       "3364      40.41    -120.51      0.67500  \n",
       "19006     38.32    -121.98      1.37500  "
      ]
     },
     "execution_count": 16,
     "metadata": {},
     "output_type": "execute_result"
    }
   ],
   "source": [
    "house_prices[np.log10(house_prices.AveOccup) > 1.5].sort_values(\"AveOccup\")"
   ]
  },
  {
   "cell_type": "markdown",
   "id": "871d62d0-6668-49a0-8d66-17fc406cd7f5",
   "metadata": {},
   "source": [
    "Анализа на данни приключва тук"
   ]
  },
  {
   "cell_type": "markdown",
   "id": "651c5217-cefc-4e1f-8c3a-0fe951a4ac33",
   "metadata": {},
   "source": [
    "Целта ни е да разберем как да моделираме. Наивния модел бил директен.Линейна регресия."
   ]
  },
  {
   "cell_type": "code",
   "execution_count": 17,
   "id": "b373850b-e171-46dd-9688-d67b11cf97e8",
   "metadata": {},
   "outputs": [],
   "source": [
    "house_model = LinearRegression()"
   ]
  },
  {
   "cell_type": "code",
   "execution_count": 18,
   "id": "3be7f9e3-7a1d-4f44-a1a2-67c940c5833c",
   "metadata": {},
   "outputs": [
    {
     "data": {
      "text/html": [
       "<style>#sk-container-id-1 {color: black;background-color: white;}#sk-container-id-1 pre{padding: 0;}#sk-container-id-1 div.sk-toggleable {background-color: white;}#sk-container-id-1 label.sk-toggleable__label {cursor: pointer;display: block;width: 100%;margin-bottom: 0;padding: 0.3em;box-sizing: border-box;text-align: center;}#sk-container-id-1 label.sk-toggleable__label-arrow:before {content: \"▸\";float: left;margin-right: 0.25em;color: #696969;}#sk-container-id-1 label.sk-toggleable__label-arrow:hover:before {color: black;}#sk-container-id-1 div.sk-estimator:hover label.sk-toggleable__label-arrow:before {color: black;}#sk-container-id-1 div.sk-toggleable__content {max-height: 0;max-width: 0;overflow: hidden;text-align: left;background-color: #f0f8ff;}#sk-container-id-1 div.sk-toggleable__content pre {margin: 0.2em;color: black;border-radius: 0.25em;background-color: #f0f8ff;}#sk-container-id-1 input.sk-toggleable__control:checked~div.sk-toggleable__content {max-height: 200px;max-width: 100%;overflow: auto;}#sk-container-id-1 input.sk-toggleable__control:checked~label.sk-toggleable__label-arrow:before {content: \"▾\";}#sk-container-id-1 div.sk-estimator input.sk-toggleable__control:checked~label.sk-toggleable__label {background-color: #d4ebff;}#sk-container-id-1 div.sk-label input.sk-toggleable__control:checked~label.sk-toggleable__label {background-color: #d4ebff;}#sk-container-id-1 input.sk-hidden--visually {border: 0;clip: rect(1px 1px 1px 1px);clip: rect(1px, 1px, 1px, 1px);height: 1px;margin: -1px;overflow: hidden;padding: 0;position: absolute;width: 1px;}#sk-container-id-1 div.sk-estimator {font-family: monospace;background-color: #f0f8ff;border: 1px dotted black;border-radius: 0.25em;box-sizing: border-box;margin-bottom: 0.5em;}#sk-container-id-1 div.sk-estimator:hover {background-color: #d4ebff;}#sk-container-id-1 div.sk-parallel-item::after {content: \"\";width: 100%;border-bottom: 1px solid gray;flex-grow: 1;}#sk-container-id-1 div.sk-label:hover label.sk-toggleable__label {background-color: #d4ebff;}#sk-container-id-1 div.sk-serial::before {content: \"\";position: absolute;border-left: 1px solid gray;box-sizing: border-box;top: 0;bottom: 0;left: 50%;z-index: 0;}#sk-container-id-1 div.sk-serial {display: flex;flex-direction: column;align-items: center;background-color: white;padding-right: 0.2em;padding-left: 0.2em;position: relative;}#sk-container-id-1 div.sk-item {position: relative;z-index: 1;}#sk-container-id-1 div.sk-parallel {display: flex;align-items: stretch;justify-content: center;background-color: white;position: relative;}#sk-container-id-1 div.sk-item::before, #sk-container-id-1 div.sk-parallel-item::before {content: \"\";position: absolute;border-left: 1px solid gray;box-sizing: border-box;top: 0;bottom: 0;left: 50%;z-index: -1;}#sk-container-id-1 div.sk-parallel-item {display: flex;flex-direction: column;z-index: 1;position: relative;background-color: white;}#sk-container-id-1 div.sk-parallel-item:first-child::after {align-self: flex-end;width: 50%;}#sk-container-id-1 div.sk-parallel-item:last-child::after {align-self: flex-start;width: 50%;}#sk-container-id-1 div.sk-parallel-item:only-child::after {width: 0;}#sk-container-id-1 div.sk-dashed-wrapped {border: 1px dashed gray;margin: 0 0.4em 0.5em 0.4em;box-sizing: border-box;padding-bottom: 0.4em;background-color: white;}#sk-container-id-1 div.sk-label label {font-family: monospace;font-weight: bold;display: inline-block;line-height: 1.2em;}#sk-container-id-1 div.sk-label-container {text-align: center;}#sk-container-id-1 div.sk-container {/* jupyter's `normalize.less` sets `[hidden] { display: none; }` but bootstrap.min.css set `[hidden] { display: none !important; }` so we also need the `!important` here to be able to override the default hidden behavior on the sphinx rendered scikit-learn.org. See: https://github.com/scikit-learn/scikit-learn/issues/21755 */display: inline-block !important;position: relative;}#sk-container-id-1 div.sk-text-repr-fallback {display: none;}</style><div id=\"sk-container-id-1\" class=\"sk-top-container\"><div class=\"sk-text-repr-fallback\"><pre>LinearRegression()</pre><b>In a Jupyter environment, please rerun this cell to show the HTML representation or trust the notebook. <br />On GitHub, the HTML representation is unable to render, please try loading this page with nbviewer.org.</b></div><div class=\"sk-container\" hidden><div class=\"sk-item\"><div class=\"sk-estimator sk-toggleable\"><input class=\"sk-toggleable__control sk-hidden--visually\" id=\"sk-estimator-id-1\" type=\"checkbox\" checked><label for=\"sk-estimator-id-1\" class=\"sk-toggleable__label sk-toggleable__label-arrow\">LinearRegression</label><div class=\"sk-toggleable__content\"><pre>LinearRegression()</pre></div></div></div></div></div>"
      ],
      "text/plain": [
       "LinearRegression()"
      ]
     },
     "execution_count": 18,
     "metadata": {},
     "output_type": "execute_result"
    }
   ],
   "source": [
    "house_model"
   ]
  },
  {
   "cell_type": "markdown",
   "id": "e05a4851-3e22-4fc8-8c9b-45e29342868f",
   "metadata": {},
   "source": [
    "можем да го fit-нем. Ако му подадем данните house_prices, ще направим грешка.- той не знае какво става."
   ]
  },
  {
   "cell_type": "code",
   "execution_count": 19,
   "id": "3fd0a003-2b92-40a7-977f-a1f981cb2e4b",
   "metadata": {},
   "outputs": [
    {
     "ename": "TypeError",
     "evalue": "LinearRegression.fit() missing 1 required positional argument: 'y'",
     "output_type": "error",
     "traceback": [
      "\u001b[1;31m---------------------------------------------------------------------------\u001b[0m",
      "\u001b[1;31mTypeError\u001b[0m                                 Traceback (most recent call last)",
      "Cell \u001b[1;32mIn[19], line 1\u001b[0m\n\u001b[1;32m----> 1\u001b[0m house_model\u001b[38;5;241m.\u001b[39mfit(house_prices)\n",
      "\u001b[1;31mTypeError\u001b[0m: LinearRegression.fit() missing 1 required positional argument: 'y'"
     ]
    }
   ],
   "source": [
    "house_model.fit(house_prices)"
   ]
  },
  {
   "cell_type": "markdown",
   "id": "366f1c6b-a31c-4e8d-8fe3-cddd53bfcb5f",
   "metadata": {},
   "source": [
    "Ако му подадем данните house_prices.MedHouseVal"
   ]
  },
  {
   "cell_type": "code",
   "execution_count": 20,
   "id": "85aeeee2-8591-48e1-80ea-7dfded59f5d5",
   "metadata": {},
   "outputs": [
    {
     "data": {
      "text/html": [
       "<style>#sk-container-id-2 {color: black;background-color: white;}#sk-container-id-2 pre{padding: 0;}#sk-container-id-2 div.sk-toggleable {background-color: white;}#sk-container-id-2 label.sk-toggleable__label {cursor: pointer;display: block;width: 100%;margin-bottom: 0;padding: 0.3em;box-sizing: border-box;text-align: center;}#sk-container-id-2 label.sk-toggleable__label-arrow:before {content: \"▸\";float: left;margin-right: 0.25em;color: #696969;}#sk-container-id-2 label.sk-toggleable__label-arrow:hover:before {color: black;}#sk-container-id-2 div.sk-estimator:hover label.sk-toggleable__label-arrow:before {color: black;}#sk-container-id-2 div.sk-toggleable__content {max-height: 0;max-width: 0;overflow: hidden;text-align: left;background-color: #f0f8ff;}#sk-container-id-2 div.sk-toggleable__content pre {margin: 0.2em;color: black;border-radius: 0.25em;background-color: #f0f8ff;}#sk-container-id-2 input.sk-toggleable__control:checked~div.sk-toggleable__content {max-height: 200px;max-width: 100%;overflow: auto;}#sk-container-id-2 input.sk-toggleable__control:checked~label.sk-toggleable__label-arrow:before {content: \"▾\";}#sk-container-id-2 div.sk-estimator input.sk-toggleable__control:checked~label.sk-toggleable__label {background-color: #d4ebff;}#sk-container-id-2 div.sk-label input.sk-toggleable__control:checked~label.sk-toggleable__label {background-color: #d4ebff;}#sk-container-id-2 input.sk-hidden--visually {border: 0;clip: rect(1px 1px 1px 1px);clip: rect(1px, 1px, 1px, 1px);height: 1px;margin: -1px;overflow: hidden;padding: 0;position: absolute;width: 1px;}#sk-container-id-2 div.sk-estimator {font-family: monospace;background-color: #f0f8ff;border: 1px dotted black;border-radius: 0.25em;box-sizing: border-box;margin-bottom: 0.5em;}#sk-container-id-2 div.sk-estimator:hover {background-color: #d4ebff;}#sk-container-id-2 div.sk-parallel-item::after {content: \"\";width: 100%;border-bottom: 1px solid gray;flex-grow: 1;}#sk-container-id-2 div.sk-label:hover label.sk-toggleable__label {background-color: #d4ebff;}#sk-container-id-2 div.sk-serial::before {content: \"\";position: absolute;border-left: 1px solid gray;box-sizing: border-box;top: 0;bottom: 0;left: 50%;z-index: 0;}#sk-container-id-2 div.sk-serial {display: flex;flex-direction: column;align-items: center;background-color: white;padding-right: 0.2em;padding-left: 0.2em;position: relative;}#sk-container-id-2 div.sk-item {position: relative;z-index: 1;}#sk-container-id-2 div.sk-parallel {display: flex;align-items: stretch;justify-content: center;background-color: white;position: relative;}#sk-container-id-2 div.sk-item::before, #sk-container-id-2 div.sk-parallel-item::before {content: \"\";position: absolute;border-left: 1px solid gray;box-sizing: border-box;top: 0;bottom: 0;left: 50%;z-index: -1;}#sk-container-id-2 div.sk-parallel-item {display: flex;flex-direction: column;z-index: 1;position: relative;background-color: white;}#sk-container-id-2 div.sk-parallel-item:first-child::after {align-self: flex-end;width: 50%;}#sk-container-id-2 div.sk-parallel-item:last-child::after {align-self: flex-start;width: 50%;}#sk-container-id-2 div.sk-parallel-item:only-child::after {width: 0;}#sk-container-id-2 div.sk-dashed-wrapped {border: 1px dashed gray;margin: 0 0.4em 0.5em 0.4em;box-sizing: border-box;padding-bottom: 0.4em;background-color: white;}#sk-container-id-2 div.sk-label label {font-family: monospace;font-weight: bold;display: inline-block;line-height: 1.2em;}#sk-container-id-2 div.sk-label-container {text-align: center;}#sk-container-id-2 div.sk-container {/* jupyter's `normalize.less` sets `[hidden] { display: none; }` but bootstrap.min.css set `[hidden] { display: none !important; }` so we also need the `!important` here to be able to override the default hidden behavior on the sphinx rendered scikit-learn.org. See: https://github.com/scikit-learn/scikit-learn/issues/21755 */display: inline-block !important;position: relative;}#sk-container-id-2 div.sk-text-repr-fallback {display: none;}</style><div id=\"sk-container-id-2\" class=\"sk-top-container\"><div class=\"sk-text-repr-fallback\"><pre>LinearRegression()</pre><b>In a Jupyter environment, please rerun this cell to show the HTML representation or trust the notebook. <br />On GitHub, the HTML representation is unable to render, please try loading this page with nbviewer.org.</b></div><div class=\"sk-container\" hidden><div class=\"sk-item\"><div class=\"sk-estimator sk-toggleable\"><input class=\"sk-toggleable__control sk-hidden--visually\" id=\"sk-estimator-id-2\" type=\"checkbox\" checked><label for=\"sk-estimator-id-2\" class=\"sk-toggleable__label sk-toggleable__label-arrow\">LinearRegression</label><div class=\"sk-toggleable__content\"><pre>LinearRegression()</pre></div></div></div></div></div>"
      ],
      "text/plain": [
       "LinearRegression()"
      ]
     },
     "execution_count": 20,
     "metadata": {},
     "output_type": "execute_result"
    }
   ],
   "source": [
    "house_model.fit(house_prices, house_prices.MedHouseVal)"
   ]
  },
  {
   "cell_type": "markdown",
   "id": "e186a46b-3289-47c7-84ee-1282bf79a809",
   "metadata": {},
   "source": [
    "Какво сбъркахме..."
   ]
  },
  {
   "cell_type": "code",
   "execution_count": 21,
   "id": "e15a0f56-f9f2-47ef-b370-d8929e52c8f1",
   "metadata": {},
   "outputs": [
    {
     "data": {
      "text/plain": [
       "array([ 1.26495364e-15,  2.21870696e-16, -2.66012394e-15,  8.98102187e-15,\n",
       "       -6.56202489e-17,  5.96163248e-17,  4.69618132e-16, -1.37716088e-15,\n",
       "        1.00000000e+00])"
      ]
     },
     "execution_count": 21,
     "metadata": {},
     "output_type": "execute_result"
    }
   ],
   "source": [
    "house_model.coef_"
   ]
  },
  {
   "cell_type": "code",
   "execution_count": 22,
   "id": "4f052a57-4cd9-4498-abba-6e43466d6ba3",
   "metadata": {},
   "outputs": [
    {
     "data": {
      "text/plain": [
       "array(['MedInc', 'HouseAge', 'AveRooms', 'AveBedrms', 'Population',\n",
       "       'AveOccup', 'Latitude', 'Longitude', 'MedHouseVal'], dtype=object)"
      ]
     },
     "execution_count": 22,
     "metadata": {},
     "output_type": "execute_result"
    }
   ],
   "source": [
    "house_model.feature_names_in_"
   ]
  },
  {
   "cell_type": "markdown",
   "id": "22a3493c-327e-443a-8174-a733f24ea6c4",
   "metadata": {},
   "source": [
    "показваме кой feature какъв коефициент има:"
   ]
  },
  {
   "cell_type": "code",
   "execution_count": 23,
   "id": "cb618a63-079a-4a3a-a36f-1bb2e9a96241",
   "metadata": {},
   "outputs": [
    {
     "data": {
      "text/plain": [
       "[('MedInc', 1.264953640420203e-15),\n",
       " ('HouseAge', 2.2187069628353092e-16),\n",
       " ('AveRooms', -2.6601239437004195e-15),\n",
       " ('AveBedrms', 8.981021874646697e-15),\n",
       " ('Population', -6.562024892801534e-17),\n",
       " ('AveOccup', 5.961632482865053e-17),\n",
       " ('Latitude', 4.696181319025433e-16),\n",
       " ('Longitude', -1.3771608818078358e-15),\n",
       " ('MedHouseVal', 1.0000000000000009)]"
      ]
     },
     "execution_count": 23,
     "metadata": {},
     "output_type": "execute_result"
    }
   ],
   "source": [
    "list(zip(house_model.feature_names_in_, house_model.coef_))"
   ]
  },
  {
   "cell_type": "markdown",
   "id": "449d4725-a5e1-449f-a732-4967c7b0aa89",
   "metadata": {},
   "source": [
    "Първа грешка - оставяне на изходен feature или някой много подобен на него, който няма да получим в реалните данни, като част от модела. 10-15, 10-16 са практически 0. И MedHouseVal = 1 - може да предскажа MedHouseVal  като имаме MedHouseVal :))) Затова правим: "
   ]
  },
  {
   "cell_type": "code",
   "execution_count": 24,
   "id": "bc988070-2bab-494a-b5f1-451d02090470",
   "metadata": {},
   "outputs": [],
   "source": [
    "house_attributes = house_prices.drop(columns=[\"MedHouseVal\"])\n",
    "house_values = house_prices.MedHouseVal"
   ]
  },
  {
   "cell_type": "code",
   "execution_count": 25,
   "id": "f37b5afb-0365-47d2-8f98-0ba2bfd31f22",
   "metadata": {},
   "outputs": [
    {
     "data": {
      "text/html": [
       "<style>#sk-container-id-3 {color: black;background-color: white;}#sk-container-id-3 pre{padding: 0;}#sk-container-id-3 div.sk-toggleable {background-color: white;}#sk-container-id-3 label.sk-toggleable__label {cursor: pointer;display: block;width: 100%;margin-bottom: 0;padding: 0.3em;box-sizing: border-box;text-align: center;}#sk-container-id-3 label.sk-toggleable__label-arrow:before {content: \"▸\";float: left;margin-right: 0.25em;color: #696969;}#sk-container-id-3 label.sk-toggleable__label-arrow:hover:before {color: black;}#sk-container-id-3 div.sk-estimator:hover label.sk-toggleable__label-arrow:before {color: black;}#sk-container-id-3 div.sk-toggleable__content {max-height: 0;max-width: 0;overflow: hidden;text-align: left;background-color: #f0f8ff;}#sk-container-id-3 div.sk-toggleable__content pre {margin: 0.2em;color: black;border-radius: 0.25em;background-color: #f0f8ff;}#sk-container-id-3 input.sk-toggleable__control:checked~div.sk-toggleable__content {max-height: 200px;max-width: 100%;overflow: auto;}#sk-container-id-3 input.sk-toggleable__control:checked~label.sk-toggleable__label-arrow:before {content: \"▾\";}#sk-container-id-3 div.sk-estimator input.sk-toggleable__control:checked~label.sk-toggleable__label {background-color: #d4ebff;}#sk-container-id-3 div.sk-label input.sk-toggleable__control:checked~label.sk-toggleable__label {background-color: #d4ebff;}#sk-container-id-3 input.sk-hidden--visually {border: 0;clip: rect(1px 1px 1px 1px);clip: rect(1px, 1px, 1px, 1px);height: 1px;margin: -1px;overflow: hidden;padding: 0;position: absolute;width: 1px;}#sk-container-id-3 div.sk-estimator {font-family: monospace;background-color: #f0f8ff;border: 1px dotted black;border-radius: 0.25em;box-sizing: border-box;margin-bottom: 0.5em;}#sk-container-id-3 div.sk-estimator:hover {background-color: #d4ebff;}#sk-container-id-3 div.sk-parallel-item::after {content: \"\";width: 100%;border-bottom: 1px solid gray;flex-grow: 1;}#sk-container-id-3 div.sk-label:hover label.sk-toggleable__label {background-color: #d4ebff;}#sk-container-id-3 div.sk-serial::before {content: \"\";position: absolute;border-left: 1px solid gray;box-sizing: border-box;top: 0;bottom: 0;left: 50%;z-index: 0;}#sk-container-id-3 div.sk-serial {display: flex;flex-direction: column;align-items: center;background-color: white;padding-right: 0.2em;padding-left: 0.2em;position: relative;}#sk-container-id-3 div.sk-item {position: relative;z-index: 1;}#sk-container-id-3 div.sk-parallel {display: flex;align-items: stretch;justify-content: center;background-color: white;position: relative;}#sk-container-id-3 div.sk-item::before, #sk-container-id-3 div.sk-parallel-item::before {content: \"\";position: absolute;border-left: 1px solid gray;box-sizing: border-box;top: 0;bottom: 0;left: 50%;z-index: -1;}#sk-container-id-3 div.sk-parallel-item {display: flex;flex-direction: column;z-index: 1;position: relative;background-color: white;}#sk-container-id-3 div.sk-parallel-item:first-child::after {align-self: flex-end;width: 50%;}#sk-container-id-3 div.sk-parallel-item:last-child::after {align-self: flex-start;width: 50%;}#sk-container-id-3 div.sk-parallel-item:only-child::after {width: 0;}#sk-container-id-3 div.sk-dashed-wrapped {border: 1px dashed gray;margin: 0 0.4em 0.5em 0.4em;box-sizing: border-box;padding-bottom: 0.4em;background-color: white;}#sk-container-id-3 div.sk-label label {font-family: monospace;font-weight: bold;display: inline-block;line-height: 1.2em;}#sk-container-id-3 div.sk-label-container {text-align: center;}#sk-container-id-3 div.sk-container {/* jupyter's `normalize.less` sets `[hidden] { display: none; }` but bootstrap.min.css set `[hidden] { display: none !important; }` so we also need the `!important` here to be able to override the default hidden behavior on the sphinx rendered scikit-learn.org. See: https://github.com/scikit-learn/scikit-learn/issues/21755 */display: inline-block !important;position: relative;}#sk-container-id-3 div.sk-text-repr-fallback {display: none;}</style><div id=\"sk-container-id-3\" class=\"sk-top-container\"><div class=\"sk-text-repr-fallback\"><pre>LinearRegression()</pre><b>In a Jupyter environment, please rerun this cell to show the HTML representation or trust the notebook. <br />On GitHub, the HTML representation is unable to render, please try loading this page with nbviewer.org.</b></div><div class=\"sk-container\" hidden><div class=\"sk-item\"><div class=\"sk-estimator sk-toggleable\"><input class=\"sk-toggleable__control sk-hidden--visually\" id=\"sk-estimator-id-3\" type=\"checkbox\" checked><label for=\"sk-estimator-id-3\" class=\"sk-toggleable__label sk-toggleable__label-arrow\">LinearRegression</label><div class=\"sk-toggleable__content\"><pre>LinearRegression()</pre></div></div></div></div></div>"
      ],
      "text/plain": [
       "LinearRegression()"
      ]
     },
     "execution_count": 25,
     "metadata": {},
     "output_type": "execute_result"
    }
   ],
   "source": [
    "house_model.fit(house_attributes, house_values)"
   ]
  },
  {
   "cell_type": "markdown",
   "id": "bf72075d-c5e5-4633-ac26-d685adf05b85",
   "metadata": {},
   "source": [
    "И вече коефициентите представляват нещо по-различно:"
   ]
  },
  {
   "cell_type": "code",
   "execution_count": 26,
   "id": "793bec77-4b35-4cb6-834a-e362371d24a9",
   "metadata": {},
   "outputs": [
    {
     "data": {
      "text/plain": [
       "array([ 4.36693293e-01,  9.43577803e-03, -1.07322041e-01,  6.45065694e-01,\n",
       "       -3.97638942e-06, -3.78654265e-03, -4.21314378e-01, -4.34513755e-01])"
      ]
     },
     "execution_count": 26,
     "metadata": {},
     "output_type": "execute_result"
    }
   ],
   "source": [
    "house_model.coef_"
   ]
  },
  {
   "cell_type": "code",
   "execution_count": 27,
   "id": "75a68c3c-8112-4f6b-a216-7bc0200e536d",
   "metadata": {},
   "outputs": [
    {
     "data": {
      "text/plain": [
       "array(['MedInc', 'HouseAge', 'AveRooms', 'AveBedrms', 'Population',\n",
       "       'AveOccup', 'Latitude', 'Longitude'], dtype=object)"
      ]
     },
     "execution_count": 27,
     "metadata": {},
     "output_type": "execute_result"
    }
   ],
   "source": [
    "house_model.feature_names_in_"
   ]
  },
  {
   "cell_type": "code",
   "execution_count": 28,
   "id": "7b077694-8970-4b1c-abb1-b8f4e4ebda6e",
   "metadata": {},
   "outputs": [
    {
     "data": {
      "text/plain": [
       "[('MedInc', 0.4366932931343244),\n",
       " ('HouseAge', 0.009435778033238284),\n",
       " ('AveRooms', -0.10732204139090361),\n",
       " ('AveBedrms', 0.6450656935198122),\n",
       " ('Population', -3.976389421238152e-06),\n",
       " ('AveOccup', -0.003786542654970899),\n",
       " ('Latitude', -0.421314377527144),\n",
       " ('Longitude', -0.43451375467477815)]"
      ]
     },
     "execution_count": 28,
     "metadata": {},
     "output_type": "execute_result"
    }
   ],
   "source": [
    "list(zip(house_model.feature_names_in_, house_model.coef_))"
   ]
  },
  {
   "cell_type": "markdown",
   "id": "97a7e4d6-40aa-4783-93c9-fe8ec6cbad90",
   "metadata": {},
   "source": [
    "Заради много големи диапазони на някои от променливите е добре да се ползва някакъв начин за нормализация. \n",
    "Нещо което почти винаги помага без особени проблеми е MinMaxScaler. Той взима всяка една колона и я трансформира така, че да има стойности между 0 и 1."
   ]
  },
  {
   "cell_type": "code",
   "execution_count": 29,
   "id": "44523d0f-bdd1-471f-b091-b28316d7c053",
   "metadata": {},
   "outputs": [],
   "source": [
    "scaler = MinMaxScaler()"
   ]
  },
  {
   "cell_type": "code",
   "execution_count": 30,
   "id": "82f6619c-2287-43ab-9c6b-1db7d8896bfd",
   "metadata": {},
   "outputs": [
    {
     "data": {
      "text/html": [
       "<style>#sk-container-id-4 {color: black;background-color: white;}#sk-container-id-4 pre{padding: 0;}#sk-container-id-4 div.sk-toggleable {background-color: white;}#sk-container-id-4 label.sk-toggleable__label {cursor: pointer;display: block;width: 100%;margin-bottom: 0;padding: 0.3em;box-sizing: border-box;text-align: center;}#sk-container-id-4 label.sk-toggleable__label-arrow:before {content: \"▸\";float: left;margin-right: 0.25em;color: #696969;}#sk-container-id-4 label.sk-toggleable__label-arrow:hover:before {color: black;}#sk-container-id-4 div.sk-estimator:hover label.sk-toggleable__label-arrow:before {color: black;}#sk-container-id-4 div.sk-toggleable__content {max-height: 0;max-width: 0;overflow: hidden;text-align: left;background-color: #f0f8ff;}#sk-container-id-4 div.sk-toggleable__content pre {margin: 0.2em;color: black;border-radius: 0.25em;background-color: #f0f8ff;}#sk-container-id-4 input.sk-toggleable__control:checked~div.sk-toggleable__content {max-height: 200px;max-width: 100%;overflow: auto;}#sk-container-id-4 input.sk-toggleable__control:checked~label.sk-toggleable__label-arrow:before {content: \"▾\";}#sk-container-id-4 div.sk-estimator input.sk-toggleable__control:checked~label.sk-toggleable__label {background-color: #d4ebff;}#sk-container-id-4 div.sk-label input.sk-toggleable__control:checked~label.sk-toggleable__label {background-color: #d4ebff;}#sk-container-id-4 input.sk-hidden--visually {border: 0;clip: rect(1px 1px 1px 1px);clip: rect(1px, 1px, 1px, 1px);height: 1px;margin: -1px;overflow: hidden;padding: 0;position: absolute;width: 1px;}#sk-container-id-4 div.sk-estimator {font-family: monospace;background-color: #f0f8ff;border: 1px dotted black;border-radius: 0.25em;box-sizing: border-box;margin-bottom: 0.5em;}#sk-container-id-4 div.sk-estimator:hover {background-color: #d4ebff;}#sk-container-id-4 div.sk-parallel-item::after {content: \"\";width: 100%;border-bottom: 1px solid gray;flex-grow: 1;}#sk-container-id-4 div.sk-label:hover label.sk-toggleable__label {background-color: #d4ebff;}#sk-container-id-4 div.sk-serial::before {content: \"\";position: absolute;border-left: 1px solid gray;box-sizing: border-box;top: 0;bottom: 0;left: 50%;z-index: 0;}#sk-container-id-4 div.sk-serial {display: flex;flex-direction: column;align-items: center;background-color: white;padding-right: 0.2em;padding-left: 0.2em;position: relative;}#sk-container-id-4 div.sk-item {position: relative;z-index: 1;}#sk-container-id-4 div.sk-parallel {display: flex;align-items: stretch;justify-content: center;background-color: white;position: relative;}#sk-container-id-4 div.sk-item::before, #sk-container-id-4 div.sk-parallel-item::before {content: \"\";position: absolute;border-left: 1px solid gray;box-sizing: border-box;top: 0;bottom: 0;left: 50%;z-index: -1;}#sk-container-id-4 div.sk-parallel-item {display: flex;flex-direction: column;z-index: 1;position: relative;background-color: white;}#sk-container-id-4 div.sk-parallel-item:first-child::after {align-self: flex-end;width: 50%;}#sk-container-id-4 div.sk-parallel-item:last-child::after {align-self: flex-start;width: 50%;}#sk-container-id-4 div.sk-parallel-item:only-child::after {width: 0;}#sk-container-id-4 div.sk-dashed-wrapped {border: 1px dashed gray;margin: 0 0.4em 0.5em 0.4em;box-sizing: border-box;padding-bottom: 0.4em;background-color: white;}#sk-container-id-4 div.sk-label label {font-family: monospace;font-weight: bold;display: inline-block;line-height: 1.2em;}#sk-container-id-4 div.sk-label-container {text-align: center;}#sk-container-id-4 div.sk-container {/* jupyter's `normalize.less` sets `[hidden] { display: none; }` but bootstrap.min.css set `[hidden] { display: none !important; }` so we also need the `!important` here to be able to override the default hidden behavior on the sphinx rendered scikit-learn.org. See: https://github.com/scikit-learn/scikit-learn/issues/21755 */display: inline-block !important;position: relative;}#sk-container-id-4 div.sk-text-repr-fallback {display: none;}</style><div id=\"sk-container-id-4\" class=\"sk-top-container\"><div class=\"sk-text-repr-fallback\"><pre>MinMaxScaler()</pre><b>In a Jupyter environment, please rerun this cell to show the HTML representation or trust the notebook. <br />On GitHub, the HTML representation is unable to render, please try loading this page with nbviewer.org.</b></div><div class=\"sk-container\" hidden><div class=\"sk-item\"><div class=\"sk-estimator sk-toggleable\"><input class=\"sk-toggleable__control sk-hidden--visually\" id=\"sk-estimator-id-4\" type=\"checkbox\" checked><label for=\"sk-estimator-id-4\" class=\"sk-toggleable__label sk-toggleable__label-arrow\">MinMaxScaler</label><div class=\"sk-toggleable__content\"><pre>MinMaxScaler()</pre></div></div></div></div></div>"
      ],
      "text/plain": [
       "MinMaxScaler()"
      ]
     },
     "execution_count": 30,
     "metadata": {},
     "output_type": "execute_result"
    }
   ],
   "source": [
    "scaler.fit(house_prices)"
   ]
  },
  {
   "cell_type": "code",
   "execution_count": 31,
   "id": "2ca9a9cc-0943-431c-8341-fdef36a8a5f3",
   "metadata": {},
   "outputs": [
    {
     "data": {
      "text/plain": [
       "array([[0.53966842, 0.78431373, 0.0435123 , ..., 0.5674814 , 0.21115538,\n",
       "        0.90226638],\n",
       "       [0.53802706, 0.39215686, 0.03822395, ..., 0.565356  , 0.21215139,\n",
       "        0.70824656],\n",
       "       [0.46602805, 1.        , 0.05275646, ..., 0.5642933 , 0.21015936,\n",
       "        0.69505074],\n",
       "       ...,\n",
       "       [0.08276438, 0.31372549, 0.03090386, ..., 0.73219979, 0.31175299,\n",
       "        0.15938285],\n",
       "       [0.09429525, 0.33333333, 0.03178269, ..., 0.73219979, 0.30179283,\n",
       "        0.14371281],\n",
       "       [0.13025338, 0.29411765, 0.03125246, ..., 0.72582359, 0.30976096,\n",
       "        0.15340349]])"
      ]
     },
     "execution_count": 31,
     "metadata": {},
     "output_type": "execute_result"
    }
   ],
   "source": [
    "scaler.transform(house_prices)"
   ]
  },
  {
   "cell_type": "markdown",
   "id": "68587c70-a409-496d-9558-93e9c538d690",
   "metadata": {},
   "source": [
    "Това е preprossesing функция. fit е да научи данните. И transform. Не изпозлвам Gradient Descent. Използва функция, която му казва по колони колко е минимума, по колони колко е максимума. \n"
   ]
  },
  {
   "cell_type": "code",
   "execution_count": 32,
   "id": "95c1831d-62b3-4f5d-bedb-cad772bf0d5c",
   "metadata": {},
   "outputs": [
    {
     "data": {
      "text/plain": [
       "MedInc           0.499900\n",
       "HouseAge         1.000000\n",
       "AveRooms         0.846154\n",
       "AveBedrms        0.333333\n",
       "Population       3.000000\n",
       "AveOccup         0.692308\n",
       "Latitude        32.540000\n",
       "Longitude     -124.350000\n",
       "MedHouseVal      0.149990\n",
       "dtype: float64"
      ]
     },
     "execution_count": 32,
     "metadata": {},
     "output_type": "execute_result"
    }
   ],
   "source": [
    "house_prices.min(axis = 0) # Показва по колони колко е минимума. "
   ]
  },
  {
   "cell_type": "code",
   "execution_count": 33,
   "id": "2a4886c7-01eb-4293-879f-7b871e971aaf",
   "metadata": {},
   "outputs": [
    {
     "data": {
      "text/plain": [
       "MedInc            15.000100\n",
       "HouseAge          52.000000\n",
       "AveRooms         141.909091\n",
       "AveBedrms         34.066667\n",
       "Population     35682.000000\n",
       "AveOccup        1243.333333\n",
       "Latitude          41.950000\n",
       "Longitude       -114.310000\n",
       "MedHouseVal        5.000010\n",
       "dtype: float64"
      ]
     },
     "execution_count": 33,
     "metadata": {},
     "output_type": "execute_result"
    }
   ],
   "source": [
    "house_prices.max(axis = 0) # Показва по колони колко е максимума. "
   ]
  },
  {
   "cell_type": "markdown",
   "id": "6095cf37-4257-4324-9dfe-f371f14f51c8",
   "metadata": {},
   "source": [
    "ако искаме може да не оставяме интервала между 0 и 1, ами между колкото искаме. Ама е най-добре от 0 до 1 или -1 до 1.\n",
    "Друг начин за скалиране е със Z Score. И тогава използваме не MinMaxScaler, ами StandardScaler. \n",
    "Кой да изплозваме - много често може да започнем с MinMax. MinMax запазва първоначалните данни, което означава че за Occupancy ще имаме същия проблем и разпределение. Единственото което прави е да превърне данните (всяка една колона) в 0 до 1. За да може влиянието на всяка една променлива да зависи от това колко наистина е важна, а не от стойността. Искаме коефициентите на модела да определят наистина колко е важна. Имаме умножение коефициент по данни AX. "
   ]
  },
  {
   "cell_type": "markdown",
   "id": "09e7316b-324e-4cd2-9a6d-455da8701f7b",
   "metadata": {},
   "source": [
    "Preprocessing функциите ги обучаваме веднъж. След това си остават обучени и ги ползваме за трансформиране. Това можем да го направим наведнъж:"
   ]
  },
  {
   "cell_type": "code",
   "execution_count": 34,
   "id": "f11aadf4-dde2-4cd1-ad25-7312fc19c25f",
   "metadata": {},
   "outputs": [
    {
     "data": {
      "text/plain": [
       "array([[0.53966842, 0.78431373, 0.0435123 , ..., 0.5674814 , 0.21115538,\n",
       "        0.90226638],\n",
       "       [0.53802706, 0.39215686, 0.03822395, ..., 0.565356  , 0.21215139,\n",
       "        0.70824656],\n",
       "       [0.46602805, 1.        , 0.05275646, ..., 0.5642933 , 0.21015936,\n",
       "        0.69505074],\n",
       "       ...,\n",
       "       [0.08276438, 0.31372549, 0.03090386, ..., 0.73219979, 0.31175299,\n",
       "        0.15938285],\n",
       "       [0.09429525, 0.33333333, 0.03178269, ..., 0.73219979, 0.30179283,\n",
       "        0.14371281],\n",
       "       [0.13025338, 0.29411765, 0.03125246, ..., 0.72582359, 0.30976096,\n",
       "        0.15340349]])"
      ]
     },
     "execution_count": 34,
     "metadata": {},
     "output_type": "execute_result"
    }
   ],
   "source": [
    "scaler.fit_transform(house_prices) # Същият резултат като след scaler.transform(house_prices)"
   ]
  },
  {
   "cell_type": "code",
   "execution_count": 35,
   "id": "f78f43f5-b1aa-4314-b429-9f3b69d9128f",
   "metadata": {},
   "outputs": [],
   "source": [
    "house_attributes_scaled = scaler.fit_transform(house_attributes)"
   ]
  },
  {
   "cell_type": "code",
   "execution_count": 36,
   "id": "19b89af7-4725-465e-a66a-091aaf15457d",
   "metadata": {},
   "outputs": [],
   "source": [
    "house_model_scaled = LinearRegression()"
   ]
  },
  {
   "cell_type": "code",
   "execution_count": 37,
   "id": "e6fcbb57-c7d8-4e99-9687-1636a3aba5b0",
   "metadata": {},
   "outputs": [
    {
     "data": {
      "text/html": [
       "<style>#sk-container-id-5 {color: black;background-color: white;}#sk-container-id-5 pre{padding: 0;}#sk-container-id-5 div.sk-toggleable {background-color: white;}#sk-container-id-5 label.sk-toggleable__label {cursor: pointer;display: block;width: 100%;margin-bottom: 0;padding: 0.3em;box-sizing: border-box;text-align: center;}#sk-container-id-5 label.sk-toggleable__label-arrow:before {content: \"▸\";float: left;margin-right: 0.25em;color: #696969;}#sk-container-id-5 label.sk-toggleable__label-arrow:hover:before {color: black;}#sk-container-id-5 div.sk-estimator:hover label.sk-toggleable__label-arrow:before {color: black;}#sk-container-id-5 div.sk-toggleable__content {max-height: 0;max-width: 0;overflow: hidden;text-align: left;background-color: #f0f8ff;}#sk-container-id-5 div.sk-toggleable__content pre {margin: 0.2em;color: black;border-radius: 0.25em;background-color: #f0f8ff;}#sk-container-id-5 input.sk-toggleable__control:checked~div.sk-toggleable__content {max-height: 200px;max-width: 100%;overflow: auto;}#sk-container-id-5 input.sk-toggleable__control:checked~label.sk-toggleable__label-arrow:before {content: \"▾\";}#sk-container-id-5 div.sk-estimator input.sk-toggleable__control:checked~label.sk-toggleable__label {background-color: #d4ebff;}#sk-container-id-5 div.sk-label input.sk-toggleable__control:checked~label.sk-toggleable__label {background-color: #d4ebff;}#sk-container-id-5 input.sk-hidden--visually {border: 0;clip: rect(1px 1px 1px 1px);clip: rect(1px, 1px, 1px, 1px);height: 1px;margin: -1px;overflow: hidden;padding: 0;position: absolute;width: 1px;}#sk-container-id-5 div.sk-estimator {font-family: monospace;background-color: #f0f8ff;border: 1px dotted black;border-radius: 0.25em;box-sizing: border-box;margin-bottom: 0.5em;}#sk-container-id-5 div.sk-estimator:hover {background-color: #d4ebff;}#sk-container-id-5 div.sk-parallel-item::after {content: \"\";width: 100%;border-bottom: 1px solid gray;flex-grow: 1;}#sk-container-id-5 div.sk-label:hover label.sk-toggleable__label {background-color: #d4ebff;}#sk-container-id-5 div.sk-serial::before {content: \"\";position: absolute;border-left: 1px solid gray;box-sizing: border-box;top: 0;bottom: 0;left: 50%;z-index: 0;}#sk-container-id-5 div.sk-serial {display: flex;flex-direction: column;align-items: center;background-color: white;padding-right: 0.2em;padding-left: 0.2em;position: relative;}#sk-container-id-5 div.sk-item {position: relative;z-index: 1;}#sk-container-id-5 div.sk-parallel {display: flex;align-items: stretch;justify-content: center;background-color: white;position: relative;}#sk-container-id-5 div.sk-item::before, #sk-container-id-5 div.sk-parallel-item::before {content: \"\";position: absolute;border-left: 1px solid gray;box-sizing: border-box;top: 0;bottom: 0;left: 50%;z-index: -1;}#sk-container-id-5 div.sk-parallel-item {display: flex;flex-direction: column;z-index: 1;position: relative;background-color: white;}#sk-container-id-5 div.sk-parallel-item:first-child::after {align-self: flex-end;width: 50%;}#sk-container-id-5 div.sk-parallel-item:last-child::after {align-self: flex-start;width: 50%;}#sk-container-id-5 div.sk-parallel-item:only-child::after {width: 0;}#sk-container-id-5 div.sk-dashed-wrapped {border: 1px dashed gray;margin: 0 0.4em 0.5em 0.4em;box-sizing: border-box;padding-bottom: 0.4em;background-color: white;}#sk-container-id-5 div.sk-label label {font-family: monospace;font-weight: bold;display: inline-block;line-height: 1.2em;}#sk-container-id-5 div.sk-label-container {text-align: center;}#sk-container-id-5 div.sk-container {/* jupyter's `normalize.less` sets `[hidden] { display: none; }` but bootstrap.min.css set `[hidden] { display: none !important; }` so we also need the `!important` here to be able to override the default hidden behavior on the sphinx rendered scikit-learn.org. See: https://github.com/scikit-learn/scikit-learn/issues/21755 */display: inline-block !important;position: relative;}#sk-container-id-5 div.sk-text-repr-fallback {display: none;}</style><div id=\"sk-container-id-5\" class=\"sk-top-container\"><div class=\"sk-text-repr-fallback\"><pre>LinearRegression()</pre><b>In a Jupyter environment, please rerun this cell to show the HTML representation or trust the notebook. <br />On GitHub, the HTML representation is unable to render, please try loading this page with nbviewer.org.</b></div><div class=\"sk-container\" hidden><div class=\"sk-item\"><div class=\"sk-estimator sk-toggleable\"><input class=\"sk-toggleable__control sk-hidden--visually\" id=\"sk-estimator-id-5\" type=\"checkbox\" checked><label for=\"sk-estimator-id-5\" class=\"sk-toggleable__label sk-toggleable__label-arrow\">LinearRegression</label><div class=\"sk-toggleable__content\"><pre>LinearRegression()</pre></div></div></div></div></div>"
      ],
      "text/plain": [
       "LinearRegression()"
      ]
     },
     "execution_count": 37,
     "metadata": {},
     "output_type": "execute_result"
    }
   ],
   "source": [
    "house_model_scaled.fit(house_attributes_scaled, house_prices) # Таргет променливата няма нужда да бъде скалирана."
   ]
  },
  {
   "cell_type": "markdown",
   "id": "7557d7d0-b9f6-42e6-957a-d6e6e27d7aad",
   "metadata": {},
   "source": [
    "Виждаме таргет променливата какво разпределение има:"
   ]
  },
  {
   "cell_type": "code",
   "execution_count": 38,
   "id": "964e5f1d-66e7-4463-bf24-1244916853e3",
   "metadata": {},
   "outputs": [
    {
     "data": {
      "image/png": "[encoded data removed]",
      "text/plain": [
       "<Figure size 640x480 with 1 Axes>"
      ]
     },
     "metadata": {},
     "output_type": "display_data"
    }
   ],
   "source": [
    "plt.hist(house_prices['MedHouseVal'], bins=\"fd\")\n",
    "plt.show()"
   ]
  },
  {
   "cell_type": "markdown",
   "id": "b1de88ce-d76e-4c95-96f5-d228ed7d9270",
   "metadata": {},
   "source": [
    "Може би тези с > 5 са тези с цена > 500 000. Проверяваме колко са "
   ]
  },
  {
   "cell_type": "code",
   "execution_count": 39,
   "id": "a090d921-d8c3-4e6d-9bd9-09442897b545",
   "metadata": {},
   "outputs": [
    {
     "data": {
      "text/html": [
       "<div>\n",
       "<style scoped>\n",
       "    .dataframe tbody tr th:only-of-type {\n",
       "        vertical-align: middle;\n",
       "    }\n",
       "\n",
       "    .dataframe tbody tr th {\n",
       "        vertical-align: top;\n",
       "    }\n",
       "\n",
       "    .dataframe thead th {\n",
       "        text-align: right;\n",
       "    }\n",
       "</style>\n",
       "<table border=\"1\" class=\"dataframe\">\n",
       "  <thead>\n",
       "    <tr style=\"text-align: right;\">\n",
       "      <th></th>\n",
       "      <th>MedInc</th>\n",
       "      <th>HouseAge</th>\n",
       "      <th>AveRooms</th>\n",
       "      <th>AveBedrms</th>\n",
       "      <th>Population</th>\n",
       "      <th>AveOccup</th>\n",
       "      <th>Latitude</th>\n",
       "      <th>Longitude</th>\n",
       "      <th>MedHouseVal</th>\n",
       "    </tr>\n",
       "  </thead>\n",
       "  <tbody>\n",
       "    <tr>\n",
       "      <th>89</th>\n",
       "      <td>1.2434</td>\n",
       "      <td>52.0</td>\n",
       "      <td>2.929412</td>\n",
       "      <td>0.917647</td>\n",
       "      <td>396.0</td>\n",
       "      <td>4.658824</td>\n",
       "      <td>37.80</td>\n",
       "      <td>-122.27</td>\n",
       "      <td>5.00001</td>\n",
       "    </tr>\n",
       "    <tr>\n",
       "      <th>459</th>\n",
       "      <td>1.1696</td>\n",
       "      <td>52.0</td>\n",
       "      <td>2.436000</td>\n",
       "      <td>0.944000</td>\n",
       "      <td>1349.0</td>\n",
       "      <td>5.396000</td>\n",
       "      <td>37.87</td>\n",
       "      <td>-122.25</td>\n",
       "      <td>5.00001</td>\n",
       "    </tr>\n",
       "    <tr>\n",
       "      <th>493</th>\n",
       "      <td>7.8521</td>\n",
       "      <td>52.0</td>\n",
       "      <td>7.794393</td>\n",
       "      <td>1.051402</td>\n",
       "      <td>517.0</td>\n",
       "      <td>2.415888</td>\n",
       "      <td>37.86</td>\n",
       "      <td>-122.24</td>\n",
       "      <td>5.00001</td>\n",
       "    </tr>\n",
       "    <tr>\n",
       "      <th>494</th>\n",
       "      <td>9.3959</td>\n",
       "      <td>52.0</td>\n",
       "      <td>7.512097</td>\n",
       "      <td>0.955645</td>\n",
       "      <td>1366.0</td>\n",
       "      <td>2.754032</td>\n",
       "      <td>37.85</td>\n",
       "      <td>-122.24</td>\n",
       "      <td>5.00001</td>\n",
       "    </tr>\n",
       "    <tr>\n",
       "      <th>509</th>\n",
       "      <td>7.8772</td>\n",
       "      <td>52.0</td>\n",
       "      <td>8.282548</td>\n",
       "      <td>1.049861</td>\n",
       "      <td>947.0</td>\n",
       "      <td>2.623269</td>\n",
       "      <td>37.83</td>\n",
       "      <td>-122.23</td>\n",
       "      <td>5.00001</td>\n",
       "    </tr>\n",
       "    <tr>\n",
       "      <th>...</th>\n",
       "      <td>...</td>\n",
       "      <td>...</td>\n",
       "      <td>...</td>\n",
       "      <td>...</td>\n",
       "      <td>...</td>\n",
       "      <td>...</td>\n",
       "      <td>...</td>\n",
       "      <td>...</td>\n",
       "      <td>...</td>\n",
       "    </tr>\n",
       "    <tr>\n",
       "      <th>20422</th>\n",
       "      <td>5.1457</td>\n",
       "      <td>35.0</td>\n",
       "      <td>6.958333</td>\n",
       "      <td>1.217593</td>\n",
       "      <td>576.0</td>\n",
       "      <td>2.666667</td>\n",
       "      <td>34.14</td>\n",
       "      <td>-118.90</td>\n",
       "      <td>5.00001</td>\n",
       "    </tr>\n",
       "    <tr>\n",
       "      <th>20426</th>\n",
       "      <td>10.0472</td>\n",
       "      <td>11.0</td>\n",
       "      <td>9.890756</td>\n",
       "      <td>1.159664</td>\n",
       "      <td>415.0</td>\n",
       "      <td>3.487395</td>\n",
       "      <td>34.18</td>\n",
       "      <td>-118.69</td>\n",
       "      <td>5.00001</td>\n",
       "    </tr>\n",
       "    <tr>\n",
       "      <th>20427</th>\n",
       "      <td>8.6499</td>\n",
       "      <td>4.0</td>\n",
       "      <td>7.236059</td>\n",
       "      <td>1.032528</td>\n",
       "      <td>5495.0</td>\n",
       "      <td>2.553439</td>\n",
       "      <td>34.19</td>\n",
       "      <td>-118.80</td>\n",
       "      <td>5.00001</td>\n",
       "    </tr>\n",
       "    <tr>\n",
       "      <th>20436</th>\n",
       "      <td>12.5420</td>\n",
       "      <td>10.0</td>\n",
       "      <td>9.873315</td>\n",
       "      <td>1.102426</td>\n",
       "      <td>1179.0</td>\n",
       "      <td>3.177898</td>\n",
       "      <td>34.21</td>\n",
       "      <td>-118.69</td>\n",
       "      <td>5.00001</td>\n",
       "    </tr>\n",
       "    <tr>\n",
       "      <th>20443</th>\n",
       "      <td>3.3438</td>\n",
       "      <td>50.0</td>\n",
       "      <td>5.342857</td>\n",
       "      <td>0.942857</td>\n",
       "      <td>130.0</td>\n",
       "      <td>3.714286</td>\n",
       "      <td>34.27</td>\n",
       "      <td>-118.85</td>\n",
       "      <td>5.00001</td>\n",
       "    </tr>\n",
       "  </tbody>\n",
       "</table>\n",
       "<p>965 rows × 9 columns</p>\n",
       "</div>"
      ],
      "text/plain": [
       "        MedInc  HouseAge  AveRooms  AveBedrms  Population  AveOccup  Latitude  \\\n",
       "89      1.2434      52.0  2.929412   0.917647       396.0  4.658824     37.80   \n",
       "459     1.1696      52.0  2.436000   0.944000      1349.0  5.396000     37.87   \n",
       "493     7.8521      52.0  7.794393   1.051402       517.0  2.415888     37.86   \n",
       "494     9.3959      52.0  7.512097   0.955645      1366.0  2.754032     37.85   \n",
       "509     7.8772      52.0  8.282548   1.049861       947.0  2.623269     37.83   \n",
       "...        ...       ...       ...        ...         ...       ...       ...   \n",
       "20422   5.1457      35.0  6.958333   1.217593       576.0  2.666667     34.14   \n",
       "20426  10.0472      11.0  9.890756   1.159664       415.0  3.487395     34.18   \n",
       "20427   8.6499       4.0  7.236059   1.032528      5495.0  2.553439     34.19   \n",
       "20436  12.5420      10.0  9.873315   1.102426      1179.0  3.177898     34.21   \n",
       "20443   3.3438      50.0  5.342857   0.942857       130.0  3.714286     34.27   \n",
       "\n",
       "       Longitude  MedHouseVal  \n",
       "89       -122.27      5.00001  \n",
       "459      -122.25      5.00001  \n",
       "493      -122.24      5.00001  \n",
       "494      -122.24      5.00001  \n",
       "509      -122.23      5.00001  \n",
       "...          ...          ...  \n",
       "20422    -118.90      5.00001  \n",
       "20426    -118.69      5.00001  \n",
       "20427    -118.80      5.00001  \n",
       "20436    -118.69      5.00001  \n",
       "20443    -118.85      5.00001  \n",
       "\n",
       "[965 rows x 9 columns]"
      ]
     },
     "execution_count": 39,
     "metadata": {},
     "output_type": "execute_result"
    }
   ],
   "source": [
    "house_prices[house_prices.MedHouseVal > 5]"
   ]
  },
  {
   "cell_type": "markdown",
   "id": "463e77a0-11b6-42a5-a18a-44ed1f073e04",
   "metadata": {},
   "source": [
    "965 реда от 20 000. Като видим, че на тях стойността е само 1. "
   ]
  },
  {
   "cell_type": "code",
   "execution_count": 40,
   "id": "49d379cc-a59c-4712-804f-798ef378967e",
   "metadata": {},
   "outputs": [
    {
     "data": {
      "text/plain": [
       "array([5.00001])"
      ]
     },
     "execution_count": 40,
     "metadata": {},
     "output_type": "execute_result"
    }
   ],
   "source": [
    "house_prices[house_prices.MedHouseVal > 5].MedHouseVal.unique()"
   ]
  },
  {
   "cell_type": "markdown",
   "id": "0e107e38-6af2-4567-b3ed-e40ed3a6abdf",
   "metadata": {},
   "source": [
    "Затова ще ги изключим по 2 причини :\n",
    "1. Да ги махнем от DataSet-a\n",
    "2. Да ги обработваме отделно. \n",
    "   Този модел не е за тях, щото са специални и не им знаем оргиналната стойност. На една регресия не можем да и кажем дай ми едно число > 5 (може в невронна мрежа, ама не в sklearn).\n",
    "Затова правим:"
   ]
  },
  {
   "cell_type": "code",
   "execution_count": 41,
   "id": "036cce0c-b00d-4cb4-b27d-b55911c5c248",
   "metadata": {},
   "outputs": [],
   "source": [
    "house_prices = house_prices[house_prices.MedHouseVal <= 5]"
   ]
  },
  {
   "cell_type": "markdown",
   "id": "b1aafe71-dd7e-4317-8a60-4889008891d1",
   "metadata": {},
   "source": [
    "Пускаме оргиналната регресия и получаваме различни коефициенти."
   ]
  },
  {
   "cell_type": "code",
   "execution_count": 42,
   "id": "631dae02-601e-4ee5-903a-574cb64979b8",
   "metadata": {},
   "outputs": [],
   "source": [
    "house_attributes = house_prices.drop(columns=[\"MedHouseVal\"])\n",
    "house_values = house_prices.MedHouseVal"
   ]
  },
  {
   "cell_type": "code",
   "execution_count": 43,
   "id": "3b06cf8b-f6c6-416f-9769-f4315b15eb88",
   "metadata": {},
   "outputs": [
    {
     "data": {
      "text/html": [
       "<style>#sk-container-id-6 {color: black;background-color: white;}#sk-container-id-6 pre{padding: 0;}#sk-container-id-6 div.sk-toggleable {background-color: white;}#sk-container-id-6 label.sk-toggleable__label {cursor: pointer;display: block;width: 100%;margin-bottom: 0;padding: 0.3em;box-sizing: border-box;text-align: center;}#sk-container-id-6 label.sk-toggleable__label-arrow:before {content: \"▸\";float: left;margin-right: 0.25em;color: #696969;}#sk-container-id-6 label.sk-toggleable__label-arrow:hover:before {color: black;}#sk-container-id-6 div.sk-estimator:hover label.sk-toggleable__label-arrow:before {color: black;}#sk-container-id-6 div.sk-toggleable__content {max-height: 0;max-width: 0;overflow: hidden;text-align: left;background-color: #f0f8ff;}#sk-container-id-6 div.sk-toggleable__content pre {margin: 0.2em;color: black;border-radius: 0.25em;background-color: #f0f8ff;}#sk-container-id-6 input.sk-toggleable__control:checked~div.sk-toggleable__content {max-height: 200px;max-width: 100%;overflow: auto;}#sk-container-id-6 input.sk-toggleable__control:checked~label.sk-toggleable__label-arrow:before {content: \"▾\";}#sk-container-id-6 div.sk-estimator input.sk-toggleable__control:checked~label.sk-toggleable__label {background-color: #d4ebff;}#sk-container-id-6 div.sk-label input.sk-toggleable__control:checked~label.sk-toggleable__label {background-color: #d4ebff;}#sk-container-id-6 input.sk-hidden--visually {border: 0;clip: rect(1px 1px 1px 1px);clip: rect(1px, 1px, 1px, 1px);height: 1px;margin: -1px;overflow: hidden;padding: 0;position: absolute;width: 1px;}#sk-container-id-6 div.sk-estimator {font-family: monospace;background-color: #f0f8ff;border: 1px dotted black;border-radius: 0.25em;box-sizing: border-box;margin-bottom: 0.5em;}#sk-container-id-6 div.sk-estimator:hover {background-color: #d4ebff;}#sk-container-id-6 div.sk-parallel-item::after {content: \"\";width: 100%;border-bottom: 1px solid gray;flex-grow: 1;}#sk-container-id-6 div.sk-label:hover label.sk-toggleable__label {background-color: #d4ebff;}#sk-container-id-6 div.sk-serial::before {content: \"\";position: absolute;border-left: 1px solid gray;box-sizing: border-box;top: 0;bottom: 0;left: 50%;z-index: 0;}#sk-container-id-6 div.sk-serial {display: flex;flex-direction: column;align-items: center;background-color: white;padding-right: 0.2em;padding-left: 0.2em;position: relative;}#sk-container-id-6 div.sk-item {position: relative;z-index: 1;}#sk-container-id-6 div.sk-parallel {display: flex;align-items: stretch;justify-content: center;background-color: white;position: relative;}#sk-container-id-6 div.sk-item::before, #sk-container-id-6 div.sk-parallel-item::before {content: \"\";position: absolute;border-left: 1px solid gray;box-sizing: border-box;top: 0;bottom: 0;left: 50%;z-index: -1;}#sk-container-id-6 div.sk-parallel-item {display: flex;flex-direction: column;z-index: 1;position: relative;background-color: white;}#sk-container-id-6 div.sk-parallel-item:first-child::after {align-self: flex-end;width: 50%;}#sk-container-id-6 div.sk-parallel-item:last-child::after {align-self: flex-start;width: 50%;}#sk-container-id-6 div.sk-parallel-item:only-child::after {width: 0;}#sk-container-id-6 div.sk-dashed-wrapped {border: 1px dashed gray;margin: 0 0.4em 0.5em 0.4em;box-sizing: border-box;padding-bottom: 0.4em;background-color: white;}#sk-container-id-6 div.sk-label label {font-family: monospace;font-weight: bold;display: inline-block;line-height: 1.2em;}#sk-container-id-6 div.sk-label-container {text-align: center;}#sk-container-id-6 div.sk-container {/* jupyter's `normalize.less` sets `[hidden] { display: none; }` but bootstrap.min.css set `[hidden] { display: none !important; }` so we also need the `!important` here to be able to override the default hidden behavior on the sphinx rendered scikit-learn.org. See: https://github.com/scikit-learn/scikit-learn/issues/21755 */display: inline-block !important;position: relative;}#sk-container-id-6 div.sk-text-repr-fallback {display: none;}</style><div id=\"sk-container-id-6\" class=\"sk-top-container\"><div class=\"sk-text-repr-fallback\"><pre>LinearRegression()</pre><b>In a Jupyter environment, please rerun this cell to show the HTML representation or trust the notebook. <br />On GitHub, the HTML representation is unable to render, please try loading this page with nbviewer.org.</b></div><div class=\"sk-container\" hidden><div class=\"sk-item\"><div class=\"sk-estimator sk-toggleable\"><input class=\"sk-toggleable__control sk-hidden--visually\" id=\"sk-estimator-id-6\" type=\"checkbox\" checked><label for=\"sk-estimator-id-6\" class=\"sk-toggleable__label sk-toggleable__label-arrow\">LinearRegression</label><div class=\"sk-toggleable__content\"><pre>LinearRegression()</pre></div></div></div></div></div>"
      ],
      "text/plain": [
       "LinearRegression()"
      ]
     },
     "execution_count": 43,
     "metadata": {},
     "output_type": "execute_result"
    }
   ],
   "source": [
    "house_model.fit(house_attributes, house_values)"
   ]
  },
  {
   "cell_type": "code",
   "execution_count": 44,
   "id": "591f64df-2e54-450b-b8ef-43cd59ad23a7",
   "metadata": {},
   "outputs": [
    {
     "data": {
      "text/plain": [
       "array([ 4.32039991e-01,  8.17895781e-03, -1.10512216e-01,  6.13453908e-01,\n",
       "        4.59347590e-06, -3.44772055e-03, -3.79403380e-01, -3.95909847e-01])"
      ]
     },
     "execution_count": 44,
     "metadata": {},
     "output_type": "execute_result"
    }
   ],
   "source": [
    "house_model.coef_"
   ]
  },
  {
   "cell_type": "code",
   "execution_count": 45,
   "id": "f178b7cd-e1a2-4499-8b7b-fabe312e5734",
   "metadata": {},
   "outputs": [
    {
     "data": {
      "text/plain": [
       "array(['MedInc', 'HouseAge', 'AveRooms', 'AveBedrms', 'Population',\n",
       "       'AveOccup', 'Latitude', 'Longitude'], dtype=object)"
      ]
     },
     "execution_count": 45,
     "metadata": {},
     "output_type": "execute_result"
    }
   ],
   "source": [
    "house_model.feature_names_in_"
   ]
  },
  {
   "cell_type": "code",
   "execution_count": 46,
   "id": "ab3d0d52-6901-4cfc-b931-9ecad56c77f1",
   "metadata": {},
   "outputs": [
    {
     "data": {
      "text/plain": [
       "[('MedInc', 0.4320399907515529),\n",
       " ('HouseAge', 0.00817895781413593),\n",
       " ('AveRooms', -0.1105122155201782),\n",
       " ('AveBedrms', 0.6134539079605428),\n",
       " ('Population', 4.593475896530102e-06),\n",
       " ('AveOccup', -0.003447720551817111),\n",
       " ('Latitude', -0.3794033795650474),\n",
       " ('Longitude', -0.39590984689672415)]"
      ]
     },
     "execution_count": 46,
     "metadata": {},
     "output_type": "execute_result"
    }
   ],
   "source": [
    "list(zip(house_model.feature_names_in_, house_model.coef_))"
   ]
  },
  {
   "cell_type": "markdown",
   "id": "374fd9f6-f907-46f4-a1fd-bdd367aaebe0",
   "metadata": {},
   "source": [
    "Получихме по-голяма зависимост на  Latitude, Longitude, което означава по-голяма зависимост къде в щата се намираме.\n",
    "Скалираме"
   ]
  },
  {
   "cell_type": "code",
   "execution_count": 48,
   "id": "42eb9e0c-6f27-4b04-b248-7de69f3840c1",
   "metadata": {},
   "outputs": [],
   "source": [
    "house_attributes_scaled = scaler.fit_transform(house_attributes)"
   ]
  },
  {
   "cell_type": "code",
   "execution_count": 50,
   "id": "97b248d1-7ed7-4986-8fee-0f9da2c60af4",
   "metadata": {},
   "outputs": [
    {
     "data": {
      "text/html": [
       "<style>#sk-container-id-8 {color: black;background-color: white;}#sk-container-id-8 pre{padding: 0;}#sk-container-id-8 div.sk-toggleable {background-color: white;}#sk-container-id-8 label.sk-toggleable__label {cursor: pointer;display: block;width: 100%;margin-bottom: 0;padding: 0.3em;box-sizing: border-box;text-align: center;}#sk-container-id-8 label.sk-toggleable__label-arrow:before {content: \"▸\";float: left;margin-right: 0.25em;color: #696969;}#sk-container-id-8 label.sk-toggleable__label-arrow:hover:before {color: black;}#sk-container-id-8 div.sk-estimator:hover label.sk-toggleable__label-arrow:before {color: black;}#sk-container-id-8 div.sk-toggleable__content {max-height: 0;max-width: 0;overflow: hidden;text-align: left;background-color: #f0f8ff;}#sk-container-id-8 div.sk-toggleable__content pre {margin: 0.2em;color: black;border-radius: 0.25em;background-color: #f0f8ff;}#sk-container-id-8 input.sk-toggleable__control:checked~div.sk-toggleable__content {max-height: 200px;max-width: 100%;overflow: auto;}#sk-container-id-8 input.sk-toggleable__control:checked~label.sk-toggleable__label-arrow:before {content: \"▾\";}#sk-container-id-8 div.sk-estimator input.sk-toggleable__control:checked~label.sk-toggleable__label {background-color: #d4ebff;}#sk-container-id-8 div.sk-label input.sk-toggleable__control:checked~label.sk-toggleable__label {background-color: #d4ebff;}#sk-container-id-8 input.sk-hidden--visually {border: 0;clip: rect(1px 1px 1px 1px);clip: rect(1px, 1px, 1px, 1px);height: 1px;margin: -1px;overflow: hidden;padding: 0;position: absolute;width: 1px;}#sk-container-id-8 div.sk-estimator {font-family: monospace;background-color: #f0f8ff;border: 1px dotted black;border-radius: 0.25em;box-sizing: border-box;margin-bottom: 0.5em;}#sk-container-id-8 div.sk-estimator:hover {background-color: #d4ebff;}#sk-container-id-8 div.sk-parallel-item::after {content: \"\";width: 100%;border-bottom: 1px solid gray;flex-grow: 1;}#sk-container-id-8 div.sk-label:hover label.sk-toggleable__label {background-color: #d4ebff;}#sk-container-id-8 div.sk-serial::before {content: \"\";position: absolute;border-left: 1px solid gray;box-sizing: border-box;top: 0;bottom: 0;left: 50%;z-index: 0;}#sk-container-id-8 div.sk-serial {display: flex;flex-direction: column;align-items: center;background-color: white;padding-right: 0.2em;padding-left: 0.2em;position: relative;}#sk-container-id-8 div.sk-item {position: relative;z-index: 1;}#sk-container-id-8 div.sk-parallel {display: flex;align-items: stretch;justify-content: center;background-color: white;position: relative;}#sk-container-id-8 div.sk-item::before, #sk-container-id-8 div.sk-parallel-item::before {content: \"\";position: absolute;border-left: 1px solid gray;box-sizing: border-box;top: 0;bottom: 0;left: 50%;z-index: -1;}#sk-container-id-8 div.sk-parallel-item {display: flex;flex-direction: column;z-index: 1;position: relative;background-color: white;}#sk-container-id-8 div.sk-parallel-item:first-child::after {align-self: flex-end;width: 50%;}#sk-container-id-8 div.sk-parallel-item:last-child::after {align-self: flex-start;width: 50%;}#sk-container-id-8 div.sk-parallel-item:only-child::after {width: 0;}#sk-container-id-8 div.sk-dashed-wrapped {border: 1px dashed gray;margin: 0 0.4em 0.5em 0.4em;box-sizing: border-box;padding-bottom: 0.4em;background-color: white;}#sk-container-id-8 div.sk-label label {font-family: monospace;font-weight: bold;display: inline-block;line-height: 1.2em;}#sk-container-id-8 div.sk-label-container {text-align: center;}#sk-container-id-8 div.sk-container {/* jupyter's `normalize.less` sets `[hidden] { display: none; }` but bootstrap.min.css set `[hidden] { display: none !important; }` so we also need the `!important` here to be able to override the default hidden behavior on the sphinx rendered scikit-learn.org. See: https://github.com/scikit-learn/scikit-learn/issues/21755 */display: inline-block !important;position: relative;}#sk-container-id-8 div.sk-text-repr-fallback {display: none;}</style><div id=\"sk-container-id-8\" class=\"sk-top-container\"><div class=\"sk-text-repr-fallback\"><pre>LinearRegression()</pre><b>In a Jupyter environment, please rerun this cell to show the HTML representation or trust the notebook. <br />On GitHub, the HTML representation is unable to render, please try loading this page with nbviewer.org.</b></div><div class=\"sk-container\" hidden><div class=\"sk-item\"><div class=\"sk-estimator sk-toggleable\"><input class=\"sk-toggleable__control sk-hidden--visually\" id=\"sk-estimator-id-8\" type=\"checkbox\" checked><label for=\"sk-estimator-id-8\" class=\"sk-toggleable__label sk-toggleable__label-arrow\">LinearRegression</label><div class=\"sk-toggleable__content\"><pre>LinearRegression()</pre></div></div></div></div></div>"
      ],
      "text/plain": [
       "LinearRegression()"
      ]
     },
     "execution_count": 50,
     "metadata": {},
     "output_type": "execute_result"
    }
   ],
   "source": [
    "house_model_scaled.fit(house_attributes_scaled, house_values)"
   ]
  },
  {
   "cell_type": "code",
   "execution_count": 51,
   "id": "335d0235-a38c-4805-bd7f-3b5dae73a304",
   "metadata": {},
   "outputs": [
    {
     "data": {
      "text/plain": [
       "[('MedInc', 6.26466627389567),\n",
       " ('HouseAge', 0.41712684852093007),\n",
       " ('AveRooms', -14.553041960731662),\n",
       " ('AveBedrms', 20.69384516186906),\n",
       " ('Population', 0.16389062651232633),\n",
       " ('AveOccup', -4.284279002633796),\n",
       " ('Latitude', -3.5701858017070918),\n",
       " ('Longitude', -3.974934862843124)]"
      ]
     },
     "execution_count": 51,
     "metadata": {},
     "output_type": "execute_result"
    }
   ],
   "source": [
    "list(zip(house_model.feature_names_in_, house_model_scaled.coef_))"
   ]
  },
  {
   "cell_type": "markdown",
   "id": "1f330e54-354b-4e67-9ea4-60e9ac1a56f3",
   "metadata": {},
   "source": [
    "Виждаме, че коефициентите имат вече други стойности. Сравняваме ги. "
   ]
  },
  {
   "cell_type": "code",
   "execution_count": null,
   "id": "8f135959-721c-4162-a5e3-d1adb911fdfc",
   "metadata": {},
   "outputs": [],
   "source": [
    "Във вторият случай коефициентите са по-добри, от тях липсват числени грешки, служат за директно интерпретиране на модела. 2:28:00"
   ]
  }
 ],
 "metadata": {
  "kernelspec": {
   "display_name": "Python 3 (ipykernel)",
   "language": "python",
   "name": "python3"
  },
  "language_info": {
   "codemirror_mode": {
    "name": "ipython",
    "version": 3
   },
   "file_extension": ".py",
   "mimetype": "text/x-python",
   "name": "python",
   "nbconvert_exporter": "python",
   "pygments_lexer": "ipython3",
   "version": "3.11.7"
  }
 },
 "nbformat": 4,
 "nbformat_minor": 5
}
